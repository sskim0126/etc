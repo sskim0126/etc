{
  "nbformat": 4,
  "nbformat_minor": 0,
  "metadata": {
    "kernelspec": {
      "display_name": "Python 3",
      "language": "python",
      "name": "python3"
    },
    "language_info": {
      "codemirror_mode": {
        "name": "ipython",
        "version": 3
      },
      "file_extension": ".py",
      "mimetype": "text/x-python",
      "name": "python",
      "nbconvert_exporter": "python",
      "pygments_lexer": "ipython3",
      "version": "3.8.5"
    },
    "colab": {
      "name": "김성식_20171595.ipynb",
      "provenance": [],
      "collapsed_sections": [],
      "include_colab_link": true
    },
    "accelerator": "GPU",
    "widgets": {
      "application/vnd.jupyter.widget-state+json": {
        "dcf250939c8e47dfaafd6f679e26a7ab": {
          "model_module": "@jupyter-widgets/controls",
          "model_name": "HBoxModel",
          "model_module_version": "1.5.0",
          "state": {
            "_view_name": "HBoxView",
            "_dom_classes": [],
            "_model_name": "HBoxModel",
            "_view_module": "@jupyter-widgets/controls",
            "_model_module_version": "1.5.0",
            "_view_count": null,
            "_view_module_version": "1.5.0",
            "box_style": "",
            "layout": "IPY_MODEL_8837e78994864d85a58dce422a2184ec",
            "_model_module": "@jupyter-widgets/controls",
            "children": [
              "IPY_MODEL_12bf45a2a77b4cdb8d9bd4b27a5ddde4",
              "IPY_MODEL_94693596cf2949b6b162a1b636d6672e",
              "IPY_MODEL_d172b4bacce04c288f9622c54efad780"
            ]
          }
        },
        "8837e78994864d85a58dce422a2184ec": {
          "model_module": "@jupyter-widgets/base",
          "model_name": "LayoutModel",
          "model_module_version": "1.2.0",
          "state": {
            "_view_name": "LayoutView",
            "grid_template_rows": null,
            "right": null,
            "justify_content": null,
            "_view_module": "@jupyter-widgets/base",
            "overflow": null,
            "_model_module_version": "1.2.0",
            "_view_count": null,
            "flex_flow": null,
            "width": null,
            "min_width": null,
            "border": null,
            "align_items": null,
            "bottom": null,
            "_model_module": "@jupyter-widgets/base",
            "top": null,
            "grid_column": null,
            "overflow_y": null,
            "overflow_x": null,
            "grid_auto_flow": null,
            "grid_area": null,
            "grid_template_columns": null,
            "flex": null,
            "_model_name": "LayoutModel",
            "justify_items": null,
            "grid_row": null,
            "max_height": null,
            "align_content": null,
            "visibility": null,
            "align_self": null,
            "height": null,
            "min_height": null,
            "padding": null,
            "grid_auto_rows": null,
            "grid_gap": null,
            "max_width": null,
            "order": null,
            "_view_module_version": "1.2.0",
            "grid_template_areas": null,
            "object_position": null,
            "object_fit": null,
            "grid_auto_columns": null,
            "margin": null,
            "display": null,
            "left": null
          }
        },
        "12bf45a2a77b4cdb8d9bd4b27a5ddde4": {
          "model_module": "@jupyter-widgets/controls",
          "model_name": "HTMLModel",
          "model_module_version": "1.5.0",
          "state": {
            "_view_name": "HTMLView",
            "style": "IPY_MODEL_b97bc14ccb7c4908a00b6214eba405cb",
            "_dom_classes": [],
            "description": "",
            "_model_name": "HTMLModel",
            "placeholder": "​",
            "_view_module": "@jupyter-widgets/controls",
            "_model_module_version": "1.5.0",
            "value": "100%",
            "_view_count": null,
            "_view_module_version": "1.5.0",
            "description_tooltip": null,
            "_model_module": "@jupyter-widgets/controls",
            "layout": "IPY_MODEL_6a6548bcf07a4d00827496dc9fc60c87"
          }
        },
        "94693596cf2949b6b162a1b636d6672e": {
          "model_module": "@jupyter-widgets/controls",
          "model_name": "FloatProgressModel",
          "model_module_version": "1.5.0",
          "state": {
            "_view_name": "ProgressView",
            "style": "IPY_MODEL_acf60e4377774c78a8d2a76171d5712c",
            "_dom_classes": [],
            "description": "",
            "_model_name": "FloatProgressModel",
            "bar_style": "success",
            "max": 46830571,
            "_view_module": "@jupyter-widgets/controls",
            "_model_module_version": "1.5.0",
            "value": 46830571,
            "_view_count": null,
            "_view_module_version": "1.5.0",
            "orientation": "horizontal",
            "min": 0,
            "description_tooltip": null,
            "_model_module": "@jupyter-widgets/controls",
            "layout": "IPY_MODEL_5043e9cd71a24fe39ed703992a5d0cb3"
          }
        },
        "d172b4bacce04c288f9622c54efad780": {
          "model_module": "@jupyter-widgets/controls",
          "model_name": "HTMLModel",
          "model_module_version": "1.5.0",
          "state": {
            "_view_name": "HTMLView",
            "style": "IPY_MODEL_5ca484d76e5b4d70886ec69afedc4c06",
            "_dom_classes": [],
            "description": "",
            "_model_name": "HTMLModel",
            "placeholder": "​",
            "_view_module": "@jupyter-widgets/controls",
            "_model_module_version": "1.5.0",
            "value": " 44.7M/44.7M [00:00&lt;00:00, 71.2MB/s]",
            "_view_count": null,
            "_view_module_version": "1.5.0",
            "description_tooltip": null,
            "_model_module": "@jupyter-widgets/controls",
            "layout": "IPY_MODEL_1cfa0c5ece1643ebaafaf88084f7a95d"
          }
        },
        "b97bc14ccb7c4908a00b6214eba405cb": {
          "model_module": "@jupyter-widgets/controls",
          "model_name": "DescriptionStyleModel",
          "model_module_version": "1.5.0",
          "state": {
            "_view_name": "StyleView",
            "_model_name": "DescriptionStyleModel",
            "description_width": "",
            "_view_module": "@jupyter-widgets/base",
            "_model_module_version": "1.5.0",
            "_view_count": null,
            "_view_module_version": "1.2.0",
            "_model_module": "@jupyter-widgets/controls"
          }
        },
        "6a6548bcf07a4d00827496dc9fc60c87": {
          "model_module": "@jupyter-widgets/base",
          "model_name": "LayoutModel",
          "model_module_version": "1.2.0",
          "state": {
            "_view_name": "LayoutView",
            "grid_template_rows": null,
            "right": null,
            "justify_content": null,
            "_view_module": "@jupyter-widgets/base",
            "overflow": null,
            "_model_module_version": "1.2.0",
            "_view_count": null,
            "flex_flow": null,
            "width": null,
            "min_width": null,
            "border": null,
            "align_items": null,
            "bottom": null,
            "_model_module": "@jupyter-widgets/base",
            "top": null,
            "grid_column": null,
            "overflow_y": null,
            "overflow_x": null,
            "grid_auto_flow": null,
            "grid_area": null,
            "grid_template_columns": null,
            "flex": null,
            "_model_name": "LayoutModel",
            "justify_items": null,
            "grid_row": null,
            "max_height": null,
            "align_content": null,
            "visibility": null,
            "align_self": null,
            "height": null,
            "min_height": null,
            "padding": null,
            "grid_auto_rows": null,
            "grid_gap": null,
            "max_width": null,
            "order": null,
            "_view_module_version": "1.2.0",
            "grid_template_areas": null,
            "object_position": null,
            "object_fit": null,
            "grid_auto_columns": null,
            "margin": null,
            "display": null,
            "left": null
          }
        },
        "acf60e4377774c78a8d2a76171d5712c": {
          "model_module": "@jupyter-widgets/controls",
          "model_name": "ProgressStyleModel",
          "model_module_version": "1.5.0",
          "state": {
            "_view_name": "StyleView",
            "_model_name": "ProgressStyleModel",
            "description_width": "",
            "_view_module": "@jupyter-widgets/base",
            "_model_module_version": "1.5.0",
            "_view_count": null,
            "_view_module_version": "1.2.0",
            "bar_color": null,
            "_model_module": "@jupyter-widgets/controls"
          }
        },
        "5043e9cd71a24fe39ed703992a5d0cb3": {
          "model_module": "@jupyter-widgets/base",
          "model_name": "LayoutModel",
          "model_module_version": "1.2.0",
          "state": {
            "_view_name": "LayoutView",
            "grid_template_rows": null,
            "right": null,
            "justify_content": null,
            "_view_module": "@jupyter-widgets/base",
            "overflow": null,
            "_model_module_version": "1.2.0",
            "_view_count": null,
            "flex_flow": null,
            "width": null,
            "min_width": null,
            "border": null,
            "align_items": null,
            "bottom": null,
            "_model_module": "@jupyter-widgets/base",
            "top": null,
            "grid_column": null,
            "overflow_y": null,
            "overflow_x": null,
            "grid_auto_flow": null,
            "grid_area": null,
            "grid_template_columns": null,
            "flex": null,
            "_model_name": "LayoutModel",
            "justify_items": null,
            "grid_row": null,
            "max_height": null,
            "align_content": null,
            "visibility": null,
            "align_self": null,
            "height": null,
            "min_height": null,
            "padding": null,
            "grid_auto_rows": null,
            "grid_gap": null,
            "max_width": null,
            "order": null,
            "_view_module_version": "1.2.0",
            "grid_template_areas": null,
            "object_position": null,
            "object_fit": null,
            "grid_auto_columns": null,
            "margin": null,
            "display": null,
            "left": null
          }
        },
        "5ca484d76e5b4d70886ec69afedc4c06": {
          "model_module": "@jupyter-widgets/controls",
          "model_name": "DescriptionStyleModel",
          "model_module_version": "1.5.0",
          "state": {
            "_view_name": "StyleView",
            "_model_name": "DescriptionStyleModel",
            "description_width": "",
            "_view_module": "@jupyter-widgets/base",
            "_model_module_version": "1.5.0",
            "_view_count": null,
            "_view_module_version": "1.2.0",
            "_model_module": "@jupyter-widgets/controls"
          }
        },
        "1cfa0c5ece1643ebaafaf88084f7a95d": {
          "model_module": "@jupyter-widgets/base",
          "model_name": "LayoutModel",
          "model_module_version": "1.2.0",
          "state": {
            "_view_name": "LayoutView",
            "grid_template_rows": null,
            "right": null,
            "justify_content": null,
            "_view_module": "@jupyter-widgets/base",
            "overflow": null,
            "_model_module_version": "1.2.0",
            "_view_count": null,
            "flex_flow": null,
            "width": null,
            "min_width": null,
            "border": null,
            "align_items": null,
            "bottom": null,
            "_model_module": "@jupyter-widgets/base",
            "top": null,
            "grid_column": null,
            "overflow_y": null,
            "overflow_x": null,
            "grid_auto_flow": null,
            "grid_area": null,
            "grid_template_columns": null,
            "flex": null,
            "_model_name": "LayoutModel",
            "justify_items": null,
            "grid_row": null,
            "max_height": null,
            "align_content": null,
            "visibility": null,
            "align_self": null,
            "height": null,
            "min_height": null,
            "padding": null,
            "grid_auto_rows": null,
            "grid_gap": null,
            "max_width": null,
            "order": null,
            "_view_module_version": "1.2.0",
            "grid_template_areas": null,
            "object_position": null,
            "object_fit": null,
            "grid_auto_columns": null,
            "margin": null,
            "display": null,
            "left": null
          }
        }
      }
    }
  },
  "cells": [
    {
      "cell_type": "markdown",
      "metadata": {
        "id": "view-in-github",
        "colab_type": "text"
      },
      "source": [
        "<a href=\"https://colab.research.google.com/github/sskim0126/etc/blob/master/%E1%84%80%E1%85%B5%E1%86%B7%E1%84%89%E1%85%A5%E1%86%BC%E1%84%89%E1%85%B5%E1%86%A8_20171595.ipynb\" target=\"_parent\"><img src=\"https://colab.research.google.com/assets/colab-badge.svg\" alt=\"Open In Colab\"/></a>"
      ]
    },
    {
      "cell_type": "markdown",
      "metadata": {
        "id": "fUnc80VIMnXa"
      },
      "source": [
        "# 숙제 1\n",
        "\n",
        "#### 20171595 김성식\n",
        "---"
      ]
    },
    {
      "cell_type": "markdown",
      "metadata": {
        "id": "tKCsiKbbM1rz"
      },
      "source": [
        "### 1. [PyTorch Framework Tutorial] 다음 링크를 직접 수행하고, 결과를 첨부하세요. (20점)"
      ]
    },
    {
      "cell_type": "markdown",
      "metadata": {
        "id": "VduGuqQ6M46q"
      },
      "source": [
        "#### (1) 코드의 해석/주석과 결과의 의미를 간결하고 간단하게 작성하세요."
      ]
    },
    {
      "cell_type": "markdown",
      "metadata": {
        "id": "KYsg1K-gMnXf"
      },
      "source": [
        "* tensor\n",
        "    * https://tutorials.pytorch.kr/beginner/blitz/tensor_tutorial.html#sphx-glr-beginner-blitz-tensor-tutorial-py"
      ]
    },
    {
      "cell_type": "code",
      "metadata": {
        "id": "U3GTE0PPMnXg"
      },
      "source": [
        "import torch\n",
        "import numpy as np"
      ],
      "execution_count": 1,
      "outputs": []
    },
    {
      "cell_type": "code",
      "metadata": {
        "id": "aycT7NzMMnXi"
      },
      "source": [
        "#\n",
        "# Tensor 초기화하기\n",
        "#\n",
        "# 입력 데이터\n",
        "data = [[1, 2], [3, 4]]\n",
        "# 이를 torch에서 사용하는 tensor로 변환\n",
        "x_data = torch.tensor(data)"
      ],
      "execution_count": 2,
      "outputs": []
    },
    {
      "cell_type": "code",
      "metadata": {
        "id": "84sA-G0mMnXj"
      },
      "source": [
        "# tensor는 numpy 배열로부터도 생성 가능하다.\n",
        "# numpy array 생성\n",
        "np_array = np.array(data)\n",
        "# 이를 torch의 tensor로 변환하는 torch.from_numpy()\n",
        "x_np = torch.from_numpy(np_array)"
      ],
      "execution_count": 3,
      "outputs": []
    },
    {
      "cell_type": "code",
      "metadata": {
        "colab": {
          "base_uri": "https://localhost:8080/",
          "height": 0
        },
        "id": "yBtGK_bKMnXj",
        "outputId": "a431b564-94de-444c-8f33-4d4ed054bc9f"
      },
      "source": [
        "# 다른 텐서로부터 새로운 텐서 생성\n",
        "# 명시적으로 재정의 하지 않는다면 shape, datatype은 유지된다.\n",
        "# ones_like는 입력받은 텐서와 shape, datatype은 유지하면서 모든 원소가 1인 텐서 생성\n",
        "x_ones = torch.ones_like(x_data)\n",
        "print(f\"Ones Tensor: \\n {x_ones} \\n\")\n",
        "\n",
        "# rand_like는 입력받은 텐서와 shape, datatype은 유지하면서 모든 원소를 랜덤하게 뽑은 텐서 생성\n",
        "# 여기서는 dtype을 float로 명시했기 때문에 dtype이 바뀜\n",
        "x_rand = torch.rand_like(x_data, dtype=torch.float)\n",
        "print(f\"Random Tensor: \\n {x_rand} \\n\")"
      ],
      "execution_count": 4,
      "outputs": [
        {
          "output_type": "stream",
          "name": "stdout",
          "text": [
            "Ones Tensor: \n",
            " tensor([[1, 1],\n",
            "        [1, 1]]) \n",
            "\n",
            "Random Tensor: \n",
            " tensor([[0.9462, 0.6642],\n",
            "        [0.3502, 0.9202]]) \n",
            "\n"
          ]
        }
      ]
    },
    {
      "cell_type": "code",
      "metadata": {
        "colab": {
          "base_uri": "https://localhost:8080/",
          "height": 0
        },
        "id": "-YumGW44MnXl",
        "outputId": "b3a65215-e3fd-4544-bc01-57c5b8878f1d"
      },
      "source": [
        "# tensor의 차원을 나타내는 튜플을 입력으로 하여\n",
        "# 특정 차원의 텐서를 만들어 낼 수 있다.\n",
        "shape = (2,3,)\n",
        "# rand는 0과 1사이의 무작위값\n",
        "rand_tensor = torch.rand(shape)\n",
        "# ones는 1\n",
        "ones_tensor = torch.ones(shape)\n",
        "# zeros는 0으로 값을 채운다.\n",
        "zeros_tensor = torch.zeros(shape)\n",
        "\n",
        "print(f\"Random Tensor: \\n {rand_tensor} \\n\")\n",
        "print(f\"Ones Tensor: \\n {ones_tensor} \\n\")\n",
        "print(f\"Zeros Tensor: \\n {zeros_tensor}\")"
      ],
      "execution_count": 5,
      "outputs": [
        {
          "output_type": "stream",
          "name": "stdout",
          "text": [
            "Random Tensor: \n",
            " tensor([[0.9220, 0.1091, 0.4774],\n",
            "        [0.2357, 0.1778, 0.5378]]) \n",
            "\n",
            "Ones Tensor: \n",
            " tensor([[1., 1., 1.],\n",
            "        [1., 1., 1.]]) \n",
            "\n",
            "Zeros Tensor: \n",
            " tensor([[0., 0., 0.],\n",
            "        [0., 0., 0.]])\n"
          ]
        }
      ]
    },
    {
      "cell_type": "code",
      "metadata": {
        "colab": {
          "base_uri": "https://localhost:8080/",
          "height": 0
        },
        "id": "62NhvniEMnXm",
        "outputId": "d603a487-3cf8-494e-ecd1-db23dbd252e9"
      },
      "source": [
        "#\n",
        "# Tensor의 속성\n",
        "#\n",
        "# [3,4] 차원의 0~1사이의 랜덤값으로 채운 텐서 생성\n",
        "tensor = torch.rand(3,4)\n",
        "\n",
        "# shape는 tensor의 모양(차원)\n",
        "print(f\"Shape of tensor: {tensor.shape}\")\n",
        "# dtype은 tensor의 자료형\n",
        "print(f\"Datatype of tensor: {tensor.dtype}\")\n",
        "# device는 tensor가 어느 장치에 저장되는지를 나타낸다.\n",
        "print(f\"Device tensor is stored on: {tensor.device}\")"
      ],
      "execution_count": 6,
      "outputs": [
        {
          "output_type": "stream",
          "name": "stdout",
          "text": [
            "Shape of tensor: torch.Size([3, 4])\n",
            "Datatype of tensor: torch.float32\n",
            "Device tensor is stored on: cpu\n"
          ]
        }
      ]
    },
    {
      "cell_type": "code",
      "metadata": {
        "id": "kWwNEAsbMnXn"
      },
      "source": [
        "# \n",
        "# Tensor 연산\n",
        "#\n",
        "# cuda가 현재 사용 가능중인지 확인\n",
        "if torch.cuda.is_available():\n",
        "    # 가능하다면 tensor의 device cuda(GPU)로 옮김\n",
        "    tensor = tensor.to('cuda')"
      ],
      "execution_count": 7,
      "outputs": []
    },
    {
      "cell_type": "code",
      "metadata": {
        "colab": {
          "base_uri": "https://localhost:8080/",
          "height": 0
        },
        "id": "9Gp-ZYW5MnXo",
        "outputId": "88ddc27c-a394-48b9-fc40-b162353c4e2a"
      },
      "source": [
        "# Numpy style의 indexing과 slicing\n",
        "# [4,4]크기의 1로 채운 텐서 생성\n",
        "tensor = torch.ones(4, 4)\n",
        "# 1번째 열을 0으로 초기화한다.\n",
        "tensor[:,1] = 0\n",
        "print(tensor)"
      ],
      "execution_count": 8,
      "outputs": [
        {
          "output_type": "stream",
          "name": "stdout",
          "text": [
            "tensor([[1., 0., 1., 1.],\n",
            "        [1., 0., 1., 1.],\n",
            "        [1., 0., 1., 1.],\n",
            "        [1., 0., 1., 1.]])\n"
          ]
        }
      ]
    },
    {
      "cell_type": "code",
      "metadata": {
        "colab": {
          "base_uri": "https://localhost:8080/",
          "height": 0
        },
        "id": "GdGA7yWkMnXo",
        "outputId": "d04f7bc5-6494-47d7-a7b7-2973e4e7bdb8"
      },
      "source": [
        "# torch.cat은 여러 tensor를 주어진 차원에 따라 하나의 tensor로 연결할 수 있다.\n",
        "# dim=0일 경우 첫번째 차원, dim=1일 경우 두번째 차원에 따라 연결한다.\n",
        "t1 = torch.cat([tensor, tensor, tensor], dim=1)\n",
        "print(t1)"
      ],
      "execution_count": 9,
      "outputs": [
        {
          "output_type": "stream",
          "name": "stdout",
          "text": [
            "tensor([[1., 0., 1., 1., 1., 0., 1., 1., 1., 0., 1., 1.],\n",
            "        [1., 0., 1., 1., 1., 0., 1., 1., 1., 0., 1., 1.],\n",
            "        [1., 0., 1., 1., 1., 0., 1., 1., 1., 0., 1., 1.],\n",
            "        [1., 0., 1., 1., 1., 0., 1., 1., 1., 0., 1., 1.]])\n"
          ]
        }
      ]
    },
    {
      "cell_type": "code",
      "metadata": {
        "colab": {
          "base_uri": "https://localhost:8080/",
          "height": 0
        },
        "id": "4BFm2AklMnXp",
        "outputId": "2b7dea58-0c80-4656-9cfd-41f7fc0aca2f"
      },
      "source": [
        "# tensor.mul: element-wise(hadamard) product\n",
        "print(f\"tensor.mul(tensor) \\n {tensor.mul(tensor)} \\n\")\n",
        "# '*'도 같은 의미, 다른 문법\n",
        "print(f\"tensor * tensor \\n {tensor * tensor}\")"
      ],
      "execution_count": 10,
      "outputs": [
        {
          "output_type": "stream",
          "name": "stdout",
          "text": [
            "tensor.mul(tensor) \n",
            " tensor([[1., 0., 1., 1.],\n",
            "        [1., 0., 1., 1.],\n",
            "        [1., 0., 1., 1.],\n",
            "        [1., 0., 1., 1.]]) \n",
            "\n",
            "tensor * tensor \n",
            " tensor([[1., 0., 1., 1.],\n",
            "        [1., 0., 1., 1.],\n",
            "        [1., 0., 1., 1.],\n",
            "        [1., 0., 1., 1.]])\n"
          ]
        }
      ]
    },
    {
      "cell_type": "code",
      "metadata": {
        "colab": {
          "base_uri": "https://localhost:8080/",
          "height": 0
        },
        "id": "erycI6lXMnXp",
        "outputId": "545b8276-05fc-4c1f-c213-10947155011d"
      },
      "source": [
        "# tensor.matmul: matrix multiplication\n",
        "# T: Transpose\n",
        "print(f\"tensor.matmul(tensor.T) \\n {tensor.matmul(tensor.T)} \\n\")\n",
        "# '@': 같은 의미, 다른 문법\n",
        "print(f\"tensor @ tensor.T \\n {tensor @ tensor.T}\")"
      ],
      "execution_count": 11,
      "outputs": [
        {
          "output_type": "stream",
          "name": "stdout",
          "text": [
            "tensor.matmul(tensor.T) \n",
            " tensor([[3., 3., 3., 3.],\n",
            "        [3., 3., 3., 3.],\n",
            "        [3., 3., 3., 3.],\n",
            "        [3., 3., 3., 3.]]) \n",
            "\n",
            "tensor @ tensor.T \n",
            " tensor([[3., 3., 3., 3.],\n",
            "        [3., 3., 3., 3.],\n",
            "        [3., 3., 3., 3.],\n",
            "        [3., 3., 3., 3.]])\n"
          ]
        }
      ]
    },
    {
      "cell_type": "code",
      "metadata": {
        "colab": {
          "base_uri": "https://localhost:8080/",
          "height": 0
        },
        "id": "-RIGY7JdMnXq",
        "outputId": "b5852384-1ef6-46e8-ec59-98793d6901ec"
      },
      "source": [
        "# _로 끝나는 연산은 해당 tensor를 변경하는 in-place 연산을 의미\n",
        "print(tensor, \"\\n\")\n",
        "# add_(5)는 tensor의 모든 값에 5만큼 더하고 이를 저장하겠다는 의미\n",
        "tensor.add_(5)\n",
        "print(tensor)"
      ],
      "execution_count": 12,
      "outputs": [
        {
          "output_type": "stream",
          "name": "stdout",
          "text": [
            "tensor([[1., 0., 1., 1.],\n",
            "        [1., 0., 1., 1.],\n",
            "        [1., 0., 1., 1.],\n",
            "        [1., 0., 1., 1.]]) \n",
            "\n",
            "tensor([[6., 5., 6., 6.],\n",
            "        [6., 5., 6., 6.],\n",
            "        [6., 5., 6., 6.],\n",
            "        [6., 5., 6., 6.]])\n"
          ]
        }
      ]
    },
    {
      "cell_type": "code",
      "metadata": {
        "colab": {
          "base_uri": "https://localhost:8080/",
          "height": 0
        },
        "id": "CvYa7qg1MnXr",
        "outputId": "68f47f2c-c63b-42b9-dc3a-a7b0bf4c81ba"
      },
      "source": [
        "#\n",
        "# Numpy 변환\n",
        "#\n",
        "# tensor를 numpy array로 변환\n",
        "# 5차원의 1로 채운 텐서 생성\n",
        "t = torch.ones(5)\n",
        "print(f\"t: {t}\")\n",
        "# numpy()는 tensor를 numpy array로 변환해줌\n",
        "n = t.numpy()\n",
        "print(f\"n: {n}\")"
      ],
      "execution_count": 13,
      "outputs": [
        {
          "output_type": "stream",
          "name": "stdout",
          "text": [
            "t: tensor([1., 1., 1., 1., 1.])\n",
            "n: [1. 1. 1. 1. 1.]\n"
          ]
        }
      ]
    },
    {
      "cell_type": "code",
      "metadata": {
        "colab": {
          "base_uri": "https://localhost:8080/",
          "height": 0
        },
        "id": "wgoEDP7vMnXr",
        "outputId": "7fcbbf3f-d4cc-41dc-9c73-ec8419029f20"
      },
      "source": [
        "# tensor를 변경하면 numpy array에 반영된다.\n",
        "# CPU상의 tensor와 numpy array는 메모리 공간을 공유하기 떄문에\n",
        "# 하나를 변경하면 다른 하나도 변경된다.\n",
        "# tensor의 모든 원소에 1을 더함\n",
        "t.add_(1)\n",
        "print(f\"t: {t}\")\n",
        "# numpy array를 출력하면 마찬가지로 1만큼 더해짐\n",
        "print(f\"n: {n}\")"
      ],
      "execution_count": 14,
      "outputs": [
        {
          "output_type": "stream",
          "name": "stdout",
          "text": [
            "t: tensor([2., 2., 2., 2., 2.])\n",
            "n: [2. 2. 2. 2. 2.]\n"
          ]
        }
      ]
    },
    {
      "cell_type": "code",
      "metadata": {
        "id": "2m7cEGaEMnXs"
      },
      "source": [
        "# numpy array를 tensor로 변환\n",
        "# 5차원의 1로 채워진 numpy array 생성\n",
        "n = np.ones(5)\n",
        "# from_numpy()로 torch tensor로 변환\n",
        "t = torch.from_numpy(n)"
      ],
      "execution_count": 15,
      "outputs": []
    },
    {
      "cell_type": "code",
      "metadata": {
        "colab": {
          "base_uri": "https://localhost:8080/",
          "height": 0
        },
        "id": "J2FKcn5_MnXs",
        "outputId": "bef62b62-b04e-4ff7-f833-25ae93ee5412"
      },
      "source": [
        "# 마찬가지로 numpy array를 변경해도 tensor에 반영된다.\n",
        "# in-place 연산을 위해 out=n으로 설정\n",
        "np.add(n, 1, out=n)\n",
        "print(f\"t: {t}\")\n",
        "print(f\"n: {n}\")"
      ],
      "execution_count": 16,
      "outputs": [
        {
          "output_type": "stream",
          "name": "stdout",
          "text": [
            "t: tensor([2., 2., 2., 2., 2.], dtype=torch.float64)\n",
            "n: [2. 2. 2. 2. 2.]\n"
          ]
        }
      ]
    },
    {
      "cell_type": "markdown",
      "metadata": {
        "id": "LF-ie-ROMnXt"
      },
      "source": [
        "* torch.autograd\n",
        "    * https://tutorials.pytorch.kr/beginner/blitz/autograd_tutorial.html#sphx-glr-beginner-blitz-autograd-tutorial-py\n",
        "    * torch.autograd는 신경망 학습을 지원하는 pytorch의 자동 미분 엔진"
      ]
    },
    {
      "cell_type": "code",
      "metadata": {
        "colab": {
          "base_uri": "https://localhost:8080/",
          "height": 66,
          "referenced_widgets": [
            "dcf250939c8e47dfaafd6f679e26a7ab",
            "8837e78994864d85a58dce422a2184ec",
            "12bf45a2a77b4cdb8d9bd4b27a5ddde4",
            "94693596cf2949b6b162a1b636d6672e",
            "d172b4bacce04c288f9622c54efad780",
            "b97bc14ccb7c4908a00b6214eba405cb",
            "6a6548bcf07a4d00827496dc9fc60c87",
            "acf60e4377774c78a8d2a76171d5712c",
            "5043e9cd71a24fe39ed703992a5d0cb3",
            "5ca484d76e5b4d70886ec69afedc4c06",
            "1cfa0c5ece1643ebaafaf88084f7a95d"
          ]
        },
        "id": "hYVacuBBMnXt",
        "outputId": "8b9e8118-a4a0-49b9-9e70-b1b7b8fa0e5b"
      },
      "source": [
        "#\n",
        "# pytorch에서의 사용법\n",
        "#\n",
        "import torch, torchvision\n",
        "# model은 pretrained된 resnet18을 사용\n",
        "model = torchvision.models.resnet18(pretrained=True)\n",
        "# [1,3,64,64] 차원의 랜덤값 텐서인 입력 데이터 생성\n",
        "# channel이 3, width, height가 64인 입력 한개로 보면 됨\n",
        "data = torch.rand(1, 3, 64, 64)\n",
        "# [1,1000] 차원의 랜덤값 텐서인 lable 생성\n",
        "# 1000 차원인 이유는 resnet18의 출력이 1000차원이기 때문\n",
        "labels = torch.rand(1, 1000)"
      ],
      "execution_count": 17,
      "outputs": [
        {
          "output_type": "stream",
          "name": "stderr",
          "text": [
            "Downloading: \"https://download.pytorch.org/models/resnet18-f37072fd.pth\" to /root/.cache/torch/hub/checkpoints/resnet18-f37072fd.pth\n"
          ]
        },
        {
          "output_type": "display_data",
          "data": {
            "application/vnd.jupyter.widget-view+json": {
              "model_id": "dcf250939c8e47dfaafd6f679e26a7ab",
              "version_minor": 0,
              "version_major": 2
            },
            "text/plain": [
              "  0%|          | 0.00/44.7M [00:00<?, ?B/s]"
            ]
          },
          "metadata": {}
        }
      ]
    },
    {
      "cell_type": "code",
      "metadata": {
        "colab": {
          "base_uri": "https://localhost:8080/",
          "height": 0
        },
        "id": "ahPrJ2pEMnXt",
        "outputId": "15b0e5a1-d91b-4c86-9754-e4a468f1f815"
      },
      "source": [
        "# model의 forward(순전파) 단계\n",
        "prediction = model(data)"
      ],
      "execution_count": 18,
      "outputs": [
        {
          "output_type": "stream",
          "name": "stderr",
          "text": [
            "/usr/local/lib/python3.7/dist-packages/torch/nn/functional.py:718: UserWarning: Named tensors and all their associated APIs are an experimental feature and subject to change. Please do not use them for anything important until they are released as stable. (Triggered internally at  /pytorch/c10/core/TensorImpl.h:1156.)\n",
            "  return torch.max_pool2d(input, kernel_size, stride, padding, dilation, ceil_mode)\n"
          ]
        }
      ]
    },
    {
      "cell_type": "code",
      "metadata": {
        "colab": {
          "base_uri": "https://localhost:8080/",
          "height": 0
        },
        "id": "r2rqw9HRMnXu",
        "outputId": "d9b885f9-9eb4-4aaa-c789-8c2c38c21148"
      },
      "source": [
        "# model의 backward(역전파) 단계\n",
        "# loss는 forward한 예측값과 label을 뺀 값의 총합\n",
        "loss = (prediction - labels).sum()\n",
        "# 오차 tensor에 backward()를 호출하면 역전파가 시작\n",
        "# autograd가 parameter의 .grad에 gradient를 계산하고 저장\n",
        "loss.backward()\n",
        "loss"
      ],
      "execution_count": 19,
      "outputs": [
        {
          "output_type": "execute_result",
          "data": {
            "text/plain": [
              "tensor(-509.6700, grad_fn=<SumBackward0>)"
            ]
          },
          "metadata": {},
          "execution_count": 19
        }
      ]
    },
    {
      "cell_type": "code",
      "metadata": {
        "id": "RFQ4GnGnMnXu"
      },
      "source": [
        "# optimizer는 SGD로 정의\n",
        "# learning rate는 0.01, momentumdms 0.9로 설정\n",
        "# model.parameters()를 인자로 넣어 모델의 모든 매개변수를 optimizer에 등록\n",
        "optim = torch.optim.SGD(model.parameters(), lr=1e-2, momentum=0.9)"
      ],
      "execution_count": 20,
      "outputs": []
    },
    {
      "cell_type": "code",
      "metadata": {
        "id": "eDu9kR51MnXu"
      },
      "source": [
        "# step()을 호출하면 optimizer가 gradient descent를 시작한다.\n",
        "# .grad에 저장된 gradient에 따라 각 parameter를 조정한다.\n",
        "optim.step()"
      ],
      "execution_count": 21,
      "outputs": []
    },
    {
      "cell_type": "code",
      "metadata": {
        "id": "oZ4uPeL4MnXv"
      },
      "source": [
        "#\n",
        "# Autograd에서 미분\n",
        "#\n",
        "import torch\n",
        "\n",
        "# 2개의 값을 갖는 2개의 tensor 생성\n",
        "# requires_grad=True는 autograd한테 모든 연산들을 추적해야 한다고 알려준다.\n",
        "a = torch.tensor([2., 3.], requires_grad=True)\n",
        "b = torch.tensor([6., 4.], requires_grad=True)"
      ],
      "execution_count": 22,
      "outputs": []
    },
    {
      "cell_type": "markdown",
      "metadata": {
        "id": "hNy46IcEMnXv"
      },
      "source": [
        "$$Q = 3a^3 - b^2$$"
      ]
    },
    {
      "cell_type": "code",
      "metadata": {
        "id": "yjDyEvOTMnXv"
      },
      "source": [
        "# a와 b로부터 새로운 tensor Q를 만든다.\n",
        "Q = 3*a**3 - b**2"
      ],
      "execution_count": 23,
      "outputs": []
    },
    {
      "cell_type": "markdown",
      "metadata": {
        "id": "0xKN_JTOMnXv"
      },
      "source": [
        "Q의 a와 b에 대한 gradient는 다음과 같다.\n",
        "$$\\frac{\\partial Q}{\\partial a} = 9a^2$$\n",
        "$$\\frac{\\partial Q}{\\partial b} = -2b$$\n",
        "backward()를 호출할 때 upstream gradient를 명시적으로 전달해야 한다.\n",
        "자기 자신에 대한 gradient는 1이므로 1을 전달한다."
      ]
    },
    {
      "cell_type": "code",
      "metadata": {
        "id": "pUynmfM0MnXw"
      },
      "source": [
        "# external_grad(upstream gradient)는 자신에 대한 미분값이므로 1로 설정\n",
        "external_grad = torch.tensor([1., 1.])\n",
        "# upstream gradient를 집어넣은 후 backward 수행\n",
        "Q.backward(gradient=external_grad)"
      ],
      "execution_count": 24,
      "outputs": []
    },
    {
      "cell_type": "code",
      "metadata": {
        "colab": {
          "base_uri": "https://localhost:8080/",
          "height": 0
        },
        "id": "b8akkE6cMnXw",
        "outputId": "f7be7668-80a1-4d5f-a224-1e96d909ff69"
      },
      "source": [
        "# backward를 수행한 결과는 a.grad, b.grad에 저장된다.\n",
        "# a.grad와 b.grad가 직접 구한 미분값과 같은지 확인\n",
        "print(9*a**2 == a.grad)\n",
        "print(-2*b == b.grad)"
      ],
      "execution_count": 25,
      "outputs": [
        {
          "output_type": "stream",
          "name": "stdout",
          "text": [
            "tensor([True, True])\n",
            "tensor([True, True])\n"
          ]
        }
      ]
    },
    {
      "cell_type": "code",
      "metadata": {
        "colab": {
          "base_uri": "https://localhost:8080/",
          "height": 0
        },
        "id": "3ezmb9KLMnXw",
        "outputId": "d26934de-080c-48c4-b52d-5dd15e5e223d"
      },
      "source": [
        "#\n",
        "# DAG(Dynamic Acyclic Graph)에서 제외하기\n",
        "#\n",
        "# x,y,z는 모두 [5,5]의 랜덤 텐서\n",
        "# z만 requires_grad를 True로 설정\n",
        "x = torch.rand(5, 5)\n",
        "y = torch.rand(5, 5)\n",
        "z = torch.rand((5, 5), requires_grad=True)\n",
        "\n",
        "# 입력 텐서들이 모두 requires_grad=False인 경우\n",
        "# 출력 텐서도 requires_grad=False이다.\n",
        "a = x + y\n",
        "print(f\"Does `a` require gradients? : {a.requires_grad}\")\n",
        "# 입력 텐서들이 하나라도 requires_grad=True인 경우\n",
        "# 출력 텐서는 requires_grad=True이다.\n",
        "b = x + z\n",
        "print(f\"Does `b` require gradients?: {b.requires_grad}\")"
      ],
      "execution_count": 26,
      "outputs": [
        {
          "output_type": "stream",
          "name": "stdout",
          "text": [
            "Does `a` require gradients? : False\n",
            "Does `b` require gradients?: True\n"
          ]
        }
      ]
    },
    {
      "cell_type": "code",
      "metadata": {
        "id": "AvM5KMugMnXw"
      },
      "source": [
        "# DAG에서 제외돼서 변화도를 계산하지 않는 parameter를 frozen parameter라고 한다.\n",
        "# 신경망 내에서 일부 parameter가 변화할 필요가 없다고 판단하면 이를 freeze하는 것이 유용\n",
        "# 이러한 케이스 중 하나는 transfer learning\n",
        "# pretrained model을 finetune할 때 일반적으로 FC layer만 변경\n",
        "from torch import nn, optim\n",
        "\n",
        "# pretrained resnet model\n",
        "model = torchvision.models.resnet18(pretrained=True)\n",
        "\n",
        "# model의 모든 parameter를 고정(freeze)\n",
        "for param in model.parameters():\n",
        "    # requires_grad=False로 설정함으로써 grad 계산을 안함\n",
        "    param.requires_grad = False"
      ],
      "execution_count": 27,
      "outputs": []
    },
    {
      "cell_type": "code",
      "metadata": {
        "id": "fbj9c1LPMnXx"
      },
      "source": [
        "# fc layer만 고정되지 않은 새로운 선형 계층으로 대체\n",
        "model.fc = nn.Linear(512, 10)"
      ],
      "execution_count": 28,
      "outputs": []
    },
    {
      "cell_type": "code",
      "metadata": {
        "id": "Quh0wT1XMnXx"
      },
      "source": [
        "# optimizer에 모든 parameter를 인자로 넣어도\n",
        "# requires_grad=True인 model.fc의 가중치만 변화도를 계산한다.\n",
        "optimizer = optim.SGD(model.parameters(), lr=1e-2, momentum=0.9)"
      ],
      "execution_count": 29,
      "outputs": []
    },
    {
      "cell_type": "markdown",
      "metadata": {
        "id": "We0weHZTMnXx"
      },
      "source": [
        "#### (2) 다음 설명의 주요 함수/API 작성하세요."
      ]
    },
    {
      "cell_type": "markdown",
      "metadata": {
        "id": "KCfVBvs6MnXx"
      },
      "source": [
        "1) **torch.rand()**: Returns a tensor filled with random numbers from a uniform distribution on the interval [0, 1)"
      ]
    },
    {
      "cell_type": "markdown",
      "metadata": {
        "id": "ZAuCJBUFMnXy"
      },
      "source": [
        "2) **torch.zeros()**: Returns a tensor filled with the scalar value 0, with the shape defined by the variable argument size."
      ]
    },
    {
      "cell_type": "markdown",
      "metadata": {
        "id": "tFdvq60jMnXy"
      },
      "source": [
        "3) **torch.tensor()**: Constructs a tensor with data."
      ]
    },
    {
      "cell_type": "markdown",
      "metadata": {
        "id": "9qPtVHj0MnXy"
      },
      "source": [
        "4) **torch.from_numpy()**: Creates a Tensor from a numpy.ndarray."
      ]
    },
    {
      "cell_type": "markdown",
      "metadata": {
        "id": "c0l0l1utMnXy"
      },
      "source": [
        "5) **torch.as_tensor()**: Convert the data into a torch.Tensor."
      ]
    },
    {
      "cell_type": "markdown",
      "metadata": {
        "id": "IaCOqugfMnXy"
      },
      "source": [
        "6) **torch.cat()**: Concatenates the given sequence of seq tensors in the given dimension."
      ]
    },
    {
      "cell_type": "markdown",
      "metadata": {
        "id": "IJv7bhcLMnXy"
      },
      "source": [
        "7) **torch.stack()**: Concatenates sequence of tensors along a new dimension."
      ]
    },
    {
      "cell_type": "markdown",
      "metadata": {
        "id": "DuT7vFT3MnXy"
      },
      "source": [
        "8) **torch.eye()**:  Returns a 2-D tensor with ones on the diagonal and zeros elsewhere."
      ]
    },
    {
      "cell_type": "markdown",
      "metadata": {
        "id": "3J4aZnEBMnXz"
      },
      "source": [
        "9) A tensor can be created with **(requires_grad=True)** so that torch.autograd records operations on them for automatic differentiation."
      ]
    },
    {
      "cell_type": "markdown",
      "metadata": {
        "id": "hxDQUfxPMnXz"
      },
      "source": [
        "10) **torch.autograd.backward()**: Computes the sum of gradients of given tensors w.r.t. graph leaves. The graph is differentiated using the chain rule. If any of tensors are non-scalar (i.e. their data has more than one element) and require gradient, then the Jacobian-vector product would be computed, in this case the function additionally requires specifying grad_tensors. It should be a sequence of matching length, that contains the “vector” in the Jacobian-vector product, usually the gradient of the differentiated function w.r.t. corresponding tensors (None is an acceptable value for all tensors that don’t need gradient tensors).\n",
        "This function accumulates gradients in the leaves - you might need to zero .grad attributes or set them to None before calling it. See Default gradient layouts for details on the memory layout of accumulated gradients."
      ]
    },
    {
      "cell_type": "markdown",
      "metadata": {
        "id": "wOq7VSu8MnXz"
      },
      "source": [
        "11) **torch::autograd::grad**: Computes and returns the sum of gradients of outputs w.r.t. the inputs. grad_outputs should be a sequence of length matching output containing the “vector” in Jacobian-vector product, usually the pre-computed gradients w.r.t. each of the outputs. If an output doesn’t require_grad, then the gradient can be None).\n",
        "If only_inputs is True, the function will only return a list of gradients w.r.t the specified inputs. If it’s False, then gradient w.r.t. all remaining leaves will still be computed, and will be accumulated into their .grad attribute."
      ]
    },
    {
      "cell_type": "markdown",
      "metadata": {
        "id": "nbmZqYZOMnXz"
      },
      "source": [
        "12) **torch.norm()**: Returns the matrix norm or vector norm of a given tensor."
      ]
    },
    {
      "cell_type": "markdown",
      "metadata": {
        "id": "n51gprvRMnXz"
      },
      "source": [
        "13) **torch.no_grad()**: Context-manager that disabled gradient calculation. Disabling gradient calculation is useful for inference when you are sure that you will not call Tensor.backward(). It will reduce memory consumption for computations that would otherwise have requires_grad=True.\n",
        "In this mode, the result of every computation will have requires_grad=False, even when the inputs have requires_grad=True. This mode has no effect when using enable_grad context manager. This context manager is thread local; it will not affect computation in other threads.\n",
        "Also functions as a decorator. (Make sure to instantiate with parenthesis.)"
      ]
    },
    {
      "cell_type": "markdown",
      "metadata": {
        "id": "c9OSRw8tMnXz"
      },
      "source": [
        "14) **torch.Tensor.detech**: Returns a new Tensor, detached from the current graph. The result will never require gradient"
      ]
    },
    {
      "cell_type": "markdown",
      "metadata": {
        "id": "P0fB22n4MnX0"
      },
      "source": [
        "#### (3) 다음 주어진 x 값을 토대로 아래의 문제를 수행하세요."
      ]
    },
    {
      "cell_type": "code",
      "metadata": {
        "colab": {
          "base_uri": "https://localhost:8080/",
          "height": 0
        },
        "id": "DK7uGJRRMnX0",
        "outputId": "51023bf6-9864-433e-9fdd-a757e10f7acf"
      },
      "source": [
        "# [5,4] 사이즈의 랜덤 텐서 생성\n",
        "x = torch.rand(5, 4)\n",
        "x"
      ],
      "execution_count": 30,
      "outputs": [
        {
          "output_type": "execute_result",
          "data": {
            "text/plain": [
              "tensor([[0.6477, 0.3449, 0.3573, 0.5479],\n",
              "        [0.7038, 0.1638, 0.3063, 0.7877],\n",
              "        [0.5677, 0.2352, 0.8005, 0.2800],\n",
              "        [0.5425, 0.3090, 0.8132, 0.7175],\n",
              "        [0.3159, 0.4175, 0.4862, 0.8800]])"
            ]
          },
          "metadata": {},
          "execution_count": 30
        }
      ]
    },
    {
      "cell_type": "markdown",
      "metadata": {
        "id": "yNfk5zgkMnX0"
      },
      "source": [
        "1) x의 shape를 구하세요."
      ]
    },
    {
      "cell_type": "code",
      "metadata": {
        "colab": {
          "base_uri": "https://localhost:8080/",
          "height": 0
        },
        "id": "5L_2igWGMnX0",
        "outputId": "aa41847b-4ad1-4da7-b5b1-7e06d08f4a44"
      },
      "source": [
        "print(x.shape)"
      ],
      "execution_count": 31,
      "outputs": [
        {
          "output_type": "stream",
          "name": "stdout",
          "text": [
            "torch.Size([5, 4])\n"
          ]
        }
      ]
    },
    {
      "cell_type": "markdown",
      "metadata": {
        "id": "S4CVRruJMnX0"
      },
      "source": [
        "2) x의 행렬에서 3열을 indexing을 사용해서 출력하세요."
      ]
    },
    {
      "cell_type": "code",
      "metadata": {
        "colab": {
          "base_uri": "https://localhost:8080/",
          "height": 0
        },
        "id": "qOYKXau1MnX0",
        "outputId": "da4e1947-1be1-4314-e93f-9ee31b26b960"
      },
      "source": [
        "print(x[:,2])"
      ],
      "execution_count": 32,
      "outputs": [
        {
          "output_type": "stream",
          "name": "stdout",
          "text": [
            "tensor([0.3573, 0.3063, 0.8005, 0.8132, 0.4862])\n"
          ]
        }
      ]
    },
    {
      "cell_type": "markdown",
      "metadata": {
        "id": "gl4gtuNrMnX1"
      },
      "source": [
        "3) x를 (2, 10)의 크기로 바꾸는 메소드를 사용하여 크기를 변경한 후 출력하세요."
      ]
    },
    {
      "cell_type": "code",
      "metadata": {
        "colab": {
          "base_uri": "https://localhost:8080/",
          "height": 0
        },
        "id": "gKQuYDMHMnX1",
        "outputId": "8553000b-05ac-4483-998c-a86b9d68ffbf"
      },
      "source": [
        "x = x.reshape([2, 10])\n",
        "print(x)"
      ],
      "execution_count": 33,
      "outputs": [
        {
          "output_type": "stream",
          "name": "stdout",
          "text": [
            "tensor([[0.6477, 0.3449, 0.3573, 0.5479, 0.7038, 0.1638, 0.3063, 0.7877, 0.5677,\n",
            "         0.2352],\n",
            "        [0.8005, 0.2800, 0.5425, 0.3090, 0.8132, 0.7175, 0.3159, 0.4175, 0.4862,\n",
            "         0.8800]])\n"
          ]
        }
      ]
    },
    {
      "cell_type": "markdown",
      "metadata": {
        "id": "yXfzRovvMnX1"
      },
      "source": [
        "4) x를 cuda 장치 객체로 변경하세요."
      ]
    },
    {
      "cell_type": "code",
      "metadata": {
        "colab": {
          "base_uri": "https://localhost:8080/",
          "height": 0
        },
        "id": "B7T3OX1pMnX1",
        "outputId": "0760cff2-254b-4e25-c7ea-ff6da806034f"
      },
      "source": [
        "if torch.cuda.is_available():\n",
        "    x = x.to('cuda')\n",
        "print(x.device)"
      ],
      "execution_count": 34,
      "outputs": [
        {
          "output_type": "stream",
          "name": "stdout",
          "text": [
            "cuda:0\n"
          ]
        }
      ]
    },
    {
      "cell_type": "markdown",
      "metadata": {
        "id": "mS2ZhdxtMnX1"
      },
      "source": [
        "#### (4) 다음 예측값과 실제값이 주어졌을 때, 교차 엔트로피 손실함수를 구하세요.\n",
        "예측값: 𝑦̂=[0.57,0.05,0.14,0.10,0.14], 실제값: 𝑦=[1,0,0,0,0]"
      ]
    },
    {
      "cell_type": "code",
      "metadata": {
        "id": "ugdpehaQMnX2"
      },
      "source": [
        "# predict, y_label을 python list로 작성\n",
        "predict = [[0.57, 0.05, 0.14, 0.10, 0.14]]\n",
        "y_label = [[1, 0, 0, 0, 0]]"
      ],
      "execution_count": 35,
      "outputs": []
    },
    {
      "cell_type": "markdown",
      "metadata": {
        "id": "UOpKEpl8MnX2"
      },
      "source": [
        "1) numpy로 구현하여 계산하세요."
      ]
    },
    {
      "cell_type": "code",
      "metadata": {
        "colab": {
          "base_uri": "https://localhost:8080/",
          "height": 0
        },
        "id": "SzXfqgREMnX2",
        "outputId": "3fd17b6c-d99c-47e2-f746-e50f85118128"
      },
      "source": [
        "# predict, y_label을 numpy array로 변환\n",
        "predict_np = np.array(predict)\n",
        "y_label_np = np.array(y_label)\n",
        "\n",
        "# log에 0이 들어가는 것을 방지하기 위한 매우 작은 값\n",
        "eps = 1e-10\n",
        "\n",
        "# cross entropy loss는 prediction에 y_label을 곱하고 negative를 씌운 것의 합\n",
        "ce = np.sum(-1 * y_label_np * np.log(predict_np))\n",
        "print(ce)"
      ],
      "execution_count": 36,
      "outputs": [
        {
          "output_type": "stream",
          "name": "stdout",
          "text": [
            "0.5621189181535413\n"
          ]
        }
      ]
    },
    {
      "cell_type": "markdown",
      "metadata": {
        "id": "62oK_fkzMnX2"
      },
      "source": [
        "2) PyTorch로 구현하여 계산하세요. (hint: torch의 loss 함수 사용)"
      ]
    },
    {
      "cell_type": "code",
      "metadata": {
        "colab": {
          "base_uri": "https://localhost:8080/",
          "height": 0
        },
        "id": "SHmp-qHXMnX3",
        "outputId": "828e7c6d-8db1-48a2-ade6-7f2aec63b620"
      },
      "source": [
        "# 소수 6번째자리까지 출력\n",
        "torch.set_printoptions(precision=6)\n",
        "\n",
        "# predict, y_label을 torch tensor로 변환\n",
        "predict_torch = torch.tensor(predict)\n",
        "# NLLLoss를 사용하기 위해서는 정답 label의 index를 넣어주어야 함\n",
        "# 0번째 값이 1이기 때문에 정답으로 [0]을 넣어줌\n",
        "y_label_torch = torch.tensor([0])\n",
        "\n",
        "# log에 0이 들어가는 것을 방지하기 위한 매우 작은 값 \n",
        "eps = 1e-10\n",
        "\n",
        "# loss는 negative log likelihood loss로 정의\n",
        "# NLLLoss의 이름에 log가 포함되어 있지만\n",
        "# torch documentation을 보니까 log는 씌우지 않고 log를 씌웠다고 가정하고 정답 클래스에서의 값에 negative만 수행함\n",
        "loss = nn.NLLLoss()\n",
        "# 따라서 torch.log를 통해 prediction 값에 log 연산을 수행\n",
        "ce = loss(torch.log(predict_torch + eps), y_label_torch)\n",
        "print(ce)\n",
        "\n",
        "##############################\n",
        "# torch.nn.CrossEntropyLoss도 있지만\n",
        "# 이 기능은 nn.LogSoftmax와 nn.NLLLoss를 합친 것이라고 합니다.\n",
        "# 하지만 저는 예측값이 이미 softmax를 거친 확률값이라고 판단했고 (모든 값이 0과 1 사이고 총 합이 1이기 때문에)\n",
        "# 따라서 해당 기능을 사용하지 않는 방식으로 구현하였습니다.\n",
        "# CrossEntropyLoss과정이 Softmax -> Log -> NLLLoss 순으로 진행되기 떄문에\n",
        "# 이미 Softmax는 거쳤기 때문에 log -> NLLLoss 과정만 구현하는 것으로 교차 엔트로피 손실을 구했습니다.\n",
        "##############################"
      ],
      "execution_count": 37,
      "outputs": [
        {
          "output_type": "stream",
          "name": "stdout",
          "text": [
            "tensor(0.562119)\n"
          ]
        }
      ]
    },
    {
      "cell_type": "markdown",
      "metadata": {
        "id": "44B-Sw85MnX3"
      },
      "source": [
        "### 2. [선형회귀] 다음 코드를 무엇을 의미하는지 이해하고 실행하여 결과를 확인하세요. (17점)\n",
        "(코드의 해석과 결과의 의미를 작성하세요.)"
      ]
    },
    {
      "cell_type": "code",
      "metadata": {
        "id": "JRb6NqvMMnX3"
      },
      "source": [
        "# 관련 라이브러리\n",
        "import numpy as np \n",
        "%matplotlib inline\n",
        "import matplotlib\n",
        "import matplotlib.pyplot as plt"
      ],
      "execution_count": 38,
      "outputs": []
    },
    {
      "cell_type": "code",
      "metadata": {
        "colab": {
          "base_uri": "https://localhost:8080/",
          "height": 287
        },
        "id": "uV1aI1WZMnX4",
        "outputId": "1dddd392-73da-44cc-cb5d-5e352d50b5ec"
      },
      "source": [
        "# 입력값은 0~2사이의 랜덤값\n",
        "X = 2 * np.random.rand(100, 1)\n",
        "# y = 4 + 3x + (표준정규분포에서 뽑은 랜덤값)\n",
        "y = 4 + 3 * X + np.random.randn(100, 1)\n",
        "plt.plot(X, y, \"b.\")\n",
        "plt.xlabel(\"$x_1$\", fontsize=18) \n",
        "plt.ylabel(\"$y$\", rotation=0, fontsize=18) \n",
        "plt.axis([0, 2, 0, 15])\n",
        "plt.show()\n",
        "#(1) 화면 출력 확인\n",
        "# x가 증가함에 따라 y도 선형적으로 증가하는 추세를 보임"
      ],
      "execution_count": 39,
      "outputs": [
        {
          "output_type": "display_data",
          "data": {
            "image/png": "[encoded data removed]",
            "text/plain": [
              "<Figure size 432x288 with 1 Axes>"
            ]
          },
          "metadata": {
            "needs_background": "light"
          }
        }
      ]
    },
    {
      "cell_type": "markdown",
      "metadata": {
        "id": "xQBKJFgEMnX4"
      },
      "source": [
        "* 선형회귀에서의 해석해 w는 다음과 같다.\n",
        "$$ w = (X^T X)^{-1}X^T y$$"
      ]
    },
    {
      "cell_type": "code",
      "metadata": {
        "colab": {
          "base_uri": "https://localhost:8080/",
          "height": 0
        },
        "id": "OYn_8j_uMnX4",
        "outputId": "4d19023f-b5e2-4c2b-81dd-10860d86ae53"
      },
      "source": [
        "### 정규 방정식을 사용한 선형회귀 접근 ###\n",
        "# bias term 추가를 위해 값이 무조건 1인 입력값 추가\n",
        "X_b = np.c_[np.ones((100, 1)), X]\n",
        "# 선형회귀에서의 해석해를 구함\n",
        "theta_best = np.linalg.inv(X_b.T.dot(X_b)).dot(X_b.T).dot(y) \n",
        "# (2) theta_best 출력 확인\n",
        "# 출력은 해석해를 통해 최적화된 가중치를 의미\n",
        "# 원하는 결과는 bias는 4, 기울기는 3\n",
        "print(theta_best)"
      ],
      "execution_count": 40,
      "outputs": [
        {
          "output_type": "stream",
          "name": "stdout",
          "text": [
            "[[4.1558175 ]\n",
            " [2.82930983]]\n"
          ]
        }
      ]
    },
    {
      "cell_type": "code",
      "metadata": {
        "colab": {
          "base_uri": "https://localhost:8080/",
          "height": 0
        },
        "id": "hHQO4BhmMnX4",
        "outputId": "f901496b-7e36-4b2d-c259-63dc54ac2348"
      },
      "source": [
        "# 입력값: 0, 2\n",
        "# 원하는 출력값: 4+3*0=4, 4+3*2=10\n",
        "X_new = np.array([[0], [2]])\n",
        "# bias term 추가\n",
        "X_new_b = np.c_[np.ones((2, 1)), X_new]\n",
        "# 해석해를 통해 구한 가중치와 입력값을 곱함\n",
        "y_predict = X_new_b.dot(theta_best)\n",
        "# (3) y_predict 출력 확인\n",
        "# 출력값은 선형회귀를 통해 구한 모델에 새로운 입력값이 들어왔을 경우의 출력을 나타냄\n",
        "print(y_predict)"
      ],
      "execution_count": 41,
      "outputs": [
        {
          "output_type": "stream",
          "name": "stdout",
          "text": [
            "[[4.1558175 ]\n",
            " [9.81443717]]\n"
          ]
        }
      ]
    },
    {
      "cell_type": "code",
      "metadata": {
        "colab": {
          "base_uri": "https://localhost:8080/",
          "height": 287
        },
        "id": "n5KoBO3dMnX5",
        "outputId": "ccd8e09f-b3c3-41ef-94e0-761ad5a08464"
      },
      "source": [
        "# 구한 직선을 그래프로 그림\n",
        "plt.plot(X_new, y_predict, \"r-\", linewidth=2, label=\"prediction\") \n",
        "plt.plot(X, y, \"b.\")\n",
        "plt.xlabel(\"$x_1$\", fontsize=18)\n",
        "plt.ylabel(\"$y$\", rotation=0, fontsize=18) \n",
        "plt.legend(loc=\"upper left\", fontsize=14)\n",
        "plt.axis([0, 2, 0, 15])\n",
        "   \n",
        "plt.show()\n",
        "#(4) 화면 출력 확인\n",
        "# 출력은 데이터에 fit하는 선형회귀 모델을 그린 것"
      ],
      "execution_count": 42,
      "outputs": [
        {
          "output_type": "display_data",
          "data": {
            "image/png": "[encoded data removed]",
            "text/plain": [
              "<Figure size 432x288 with 1 Axes>"
            ]
          },
          "metadata": {
            "needs_background": "light"
          }
        }
      ]
    },
    {
      "cell_type": "code",
      "metadata": {
        "colab": {
          "base_uri": "https://localhost:8080/",
          "height": 0
        },
        "id": "0kIr7vMkMnX5",
        "outputId": "3a0f998f-2c7f-4c89-f822-6d3b50426f35"
      },
      "source": [
        "# python scikit-learn library를 통한 linear regression\n",
        "from sklearn.linear_model import LinearRegression\n",
        "lin_reg = LinearRegression()\n",
        "lin_reg.fit(X, y)\n",
        "# (5) lin_reg.intercept_, lin_reg.coef_ 출력 확인\n",
        "# 출력값은 sklearn 라이브러리가 제공하는 함수를 통해 구한 가중치\n",
        "print(lin_reg.intercept_, lin_reg.coef_)"
      ],
      "execution_count": 43,
      "outputs": [
        {
          "output_type": "stream",
          "name": "stdout",
          "text": [
            "[4.1558175] [[2.82930983]]\n"
          ]
        }
      ]
    },
    {
      "cell_type": "code",
      "metadata": {
        "colab": {
          "base_uri": "https://localhost:8080/",
          "height": 0
        },
        "id": "IegQoav7MnX5",
        "outputId": "8612fa9c-7236-43b6-b817-2b1490511f44"
      },
      "source": [
        "# (6) lin_reg.predict(X_new) 출력 확인\n",
        "# 출력값은 새로운 입력에 대한 모델의 출력이다.\n",
        "print(lin_reg.predict(X_new))"
      ],
      "execution_count": 44,
      "outputs": [
        {
          "output_type": "stream",
          "name": "stdout",
          "text": [
            "[[4.1558175 ]\n",
            " [9.81443717]]\n"
          ]
        }
      ]
    },
    {
      "cell_type": "code",
      "metadata": {
        "colab": {
          "base_uri": "https://localhost:8080/",
          "height": 0
        },
        "id": "y12zoTtBMnX5",
        "outputId": "4c02e7ae-fe93-4b84-ec43-645374368f1a"
      },
      "source": [
        "# numpy.linalg.lstsg(least square)는 최소제곱해를 반환하는 함수\n",
        "# X.T*W = y가 있을 때 X, y를 주면 |y - X.T*W|^2가 최소가 되는 해를 근사해서 출력\n",
        "theta_best_svd, residuals, rank, s = np.linalg.lstsq(X_b, y, rcond=1e-6)\n",
        "# (7) theta_best_svd 출력 확인\n",
        "# 결과값은 lstsq() 함수를 통해 구한 가중치\n",
        "print(theta_best_svd)"
      ],
      "execution_count": 45,
      "outputs": [
        {
          "output_type": "stream",
          "name": "stdout",
          "text": [
            "[[4.1558175 ]\n",
            " [2.82930983]]\n"
          ]
        }
      ]
    },
    {
      "cell_type": "code",
      "metadata": {
        "colab": {
          "base_uri": "https://localhost:8080/",
          "height": 0
        },
        "id": "6Dn5MvHZMnX6",
        "outputId": "a40c5423-b583-4e2c-8397-8aa88b904402"
      },
      "source": [
        "# numpy.linalg.pinv()는 정사각행렬이 아닌 행렬에서도 역행렬을 정의하는 Moore-Penrose의 pseudo inverse matrix를 구현한 함수\n",
        "# X.T*W = y가 있을 경우 X는 정사각행렬이 아니기 때문에 역행렬을 정의할 수 없지만,\n",
        "# pseudo inverse matrix를 구해 양변에 곱하면\n",
        "# X^(-1)*X.T*W = X^(-1)*y => W = X^(-1)*y가 된다.\n",
        "# (8) np.linalg.pinv(X_b).dot(y) 출력 확인\n",
        "# pinv()를 통해 구한 유사 역행렬을 y에 곱함으로써도 선형회귀의 가중치를 구할 수 있다.\n",
        "print(np.linalg.pinv(X_b).dot(y))"
      ],
      "execution_count": 46,
      "outputs": [
        {
          "output_type": "stream",
          "name": "stdout",
          "text": [
            "[[4.1558175 ]\n",
            " [2.82930983]]\n"
          ]
        }
      ]
    },
    {
      "cell_type": "markdown",
      "metadata": {
        "id": "EtbxqsY5MnX6"
      },
      "source": [
        "* 경사 하강법을 위해서는 loss function을 정의하고 gradient를 구해야 한다.\n",
        "$$ L = \\frac{1}{m}\\sum(XW - y)^2$$\n",
        "$$ \\frac{\\partial L}{\\partial W} = \\frac{2}{m}X(XW - y) $$"
      ]
    },
    {
      "cell_type": "code",
      "metadata": {
        "colab": {
          "base_uri": "https://localhost:8080/",
          "height": 0
        },
        "id": "enTYOtbyMnX6",
        "outputId": "0e6e1985-f847-4bef-957f-95985c7100ea"
      },
      "source": [
        "### 경사 하강법을 사용한 선형회귀 접근 ### \n",
        "# learning rate는 0.1로 설정\n",
        "eta = 0.1\n",
        "n_iterations = 1000\n",
        "m = 100\n",
        "# 초기 가중치는 랜덤하게 설정\n",
        "theta = np.random.randn(2,1)\n",
        "for iteration in range(n_iterations):\n",
        "    # 위에서 구한 식으로 반복해서 gradient 계산\n",
        "    gradients = 2/m * X_b.T.dot(X_b.dot(theta) - y)\n",
        "    # gradient에 learning rate를 곱한 만큼 가중치를 descent 한다.\n",
        "    theta = theta - eta * gradients\n",
        "# (9) theta 출력 확인\n",
        "# 출력값은 학습을 통해 얻은 가중치\n",
        "print(theta)"
      ],
      "execution_count": 47,
      "outputs": [
        {
          "output_type": "stream",
          "name": "stdout",
          "text": [
            "[[4.1558175 ]\n",
            " [2.82930983]]\n"
          ]
        }
      ]
    },
    {
      "cell_type": "code",
      "metadata": {
        "colab": {
          "base_uri": "https://localhost:8080/",
          "height": 0
        },
        "id": "B4w4_Dd8MnX6",
        "outputId": "ce20f56f-54f3-41cd-dd4f-c672e1ec42b4"
      },
      "source": [
        "# (10) X_new_b.dot(theta) 출력 확인\n",
        "# 출력값은 gradient descent를 통해 얻은 모델로 새로운 입력값에 대한 계산한 값\n",
        "print(X_new_b.dot(theta))"
      ],
      "execution_count": 48,
      "outputs": [
        {
          "output_type": "stream",
          "name": "stdout",
          "text": [
            "[[4.1558175 ]\n",
            " [9.81443717]]\n"
          ]
        }
      ]
    },
    {
      "cell_type": "code",
      "metadata": {
        "colab": {
          "base_uri": "https://localhost:8080/",
          "height": 307
        },
        "id": "eGUM-hb5MnX6",
        "outputId": "4ca29e2b-2698-4034-e7fe-c4a92323fe9b"
      },
      "source": [
        "# learning rate에 따른 수렴속도 비교\n",
        "# 현재는 모든 데이터에서 loss를 구하고 gd를 진행하는 batch gradient descent 사용\n",
        "theta_path_bgd = []\n",
        "def plot_gradient_descent(theta, eta, theta_path=None):\n",
        "    # m = full batch size\n",
        "    m = len(X_b)\n",
        "    plt.plot(X, y, \"b.\")\n",
        "    n_iterations = 1000\n",
        "    for iteration in range(n_iterations):\n",
        "        # 초기 10번에 대해서 그래프를 그림\n",
        "        if iteration < 10:\n",
        "            y_predict = X_new_b.dot(theta)\n",
        "            # 제일 처음은 빨간색 점선 그 이후는 파란색 선\n",
        "            style = \"b-\" if iteration > 0 else \"r--\" \n",
        "            plt.plot(X_new, y_predict, style)\n",
        "        # 훈련 데이터의 모든 값을 사용해서 gradient를 구함\n",
        "        gradients = 2/m * X_b.T.dot(X_b.dot(theta) - y)\n",
        "        # 입력으로 주어진 learning rate에 따라 gd를 진행한다.\n",
        "        theta = theta - eta * gradients\n",
        "\n",
        "        if theta_path is not None: \n",
        "            theta_path.append(theta)\n",
        "    plt.xlabel(\"$x_1$\", fontsize=18)\n",
        "    plt.axis([0, 2, 0, 15])\n",
        "    plt.title(r\"$\\eta = {}$\".format(eta), fontsize=16)\n",
        "np.random.seed(42)\n",
        "theta = np.random.randn(2,1)\n",
        "plt.figure(figsize=(10,4))\n",
        "# learning rate가 0.02, 0.1, 0.5인 경우로 gd를 수행하고 그래프를 그림\n",
        "plt.subplot(131); plot_gradient_descent(theta, eta=0.02)\n",
        "plt.ylabel(\"$y$\", rotation=0, fontsize=18)\n",
        "# learning rate가 0.1일 때의 것을 캐싱\n",
        "plt.subplot(132); plot_gradient_descent(theta, eta=0.1, theta_path=theta_path_bgd)\n",
        "plt.subplot(133); plot_gradient_descent(theta, eta=0.5)\n",
        "plt.show()\n",
        "# (11) 화면 출력 확인\n",
        "# learning rate에 따른 수렴 과정\n",
        "# 0.02일 때는 비교적 느린 수렴 속도\n",
        "# 0.1일때는 비교적 적당\n",
        "# 0.5일 때는 발산하는 듯한 모습"
      ],
      "execution_count": 49,
      "outputs": [
        {
          "output_type": "display_data",
          "data": {
            "image/png": "[encoded data removed]",
            "text/plain": [
              "<Figure size 720x288 with 3 Axes>"
            ]
          },
          "metadata": {
            "needs_background": "light"
          }
        }
      ]
    },
    {
      "cell_type": "code",
      "metadata": {
        "colab": {
          "base_uri": "https://localhost:8080/",
          "height": 287
        },
        "id": "mNs5ESitMnX7",
        "outputId": "b98a8b08-ae39-4c19-96d5-1f4364384e05"
      },
      "source": [
        "### 스토캐스틱 경사 하강법을 사용한 선형회귀 접근 ### \n",
        "# sgd는 1개의 데이터에 대해서 Loss를 구하고 gd를 진행\n",
        "theta_path_sgd = []\n",
        "m = len(X_b)\n",
        "np.random.seed(42)\n",
        "n_epochs = 50\n",
        "# 초기 learning rate = 0.1\n",
        "t0, t1 = 5, 50\n",
        "# learning rate를 시간이 지남에 따라 감소시키기 위한 함수\n",
        "def learning_schedule(t):\n",
        "    return t0 / (t + t1)\n",
        "theta = np.random.randn(2,1) \n",
        "for epoch in range(n_epochs):\n",
        "    # full batch의 size만큼 순회하면서 매번 gd를 진행\n",
        "    for i in range(m):\n",
        "        # 초기 20번에 대해서 그래프를 그림 (빨간색은 제일 처음)\n",
        "        if epoch == 0 and i < 20:\n",
        "            y_predict = X_new_b.dot(theta) \n",
        "            style = \"b-\" if i > 0 else \"r--\" \n",
        "            plt.plot(X_new, y_predict, style)\n",
        "        # m 크기의 dataset에서 random한 index 선택\n",
        "        random_index = np.random.randint(m)\n",
        "        # 해당 index의 데이터와 label rkwudha\n",
        "        xi = X_b[random_index:random_index+1] \n",
        "        yi = y[random_index:random_index+1]\n",
        "        # 데이터 하나에 대해서 gradient 계산\n",
        "        gradients = 2 * xi.T.dot(xi.dot(theta) - yi)\n",
        "        # iteration이 반복할수록 learning rate decay\n",
        "        eta = learning_schedule(epoch * m + i) \n",
        "        # gradient descent\n",
        "        theta = theta - eta * gradients \n",
        "        theta_path_sgd.append(theta)\n",
        "plt.plot(X, y, \"b.\") \n",
        "plt.xlabel(\"$x_1$\", fontsize=18)\n",
        "plt.ylabel(\"$y$\", rotation=0, fontsize=18) \n",
        "plt.axis([0, 2, 0, 15])\n",
        "plt.show()\n",
        "# (12) 화면 출력 확인\n",
        "# sgd가 수렴하는 과정\n",
        "# 수렴하긴 하지만 그래도 흔들리는 듯해 보임"
      ],
      "execution_count": 50,
      "outputs": [
        {
          "output_type": "display_data",
          "data": {
            "image/png": "[encoded data removed]",
            "text/plain": [
              "<Figure size 432x288 with 1 Axes>"
            ]
          },
          "metadata": {
            "needs_background": "light"
          }
        }
      ]
    },
    {
      "cell_type": "code",
      "metadata": {
        "colab": {
          "base_uri": "https://localhost:8080/",
          "height": 0
        },
        "id": "topVDLEgMnX7",
        "outputId": "0c5a696e-3513-4b14-d13f-ed5ea92583fa"
      },
      "source": [
        "# (13) theta 출력 확인\n",
        "# sgd를 통해 얻은 가중치\n",
        "print(theta)"
      ],
      "execution_count": 51,
      "outputs": [
        {
          "output_type": "stream",
          "name": "stdout",
          "text": [
            "[[4.19693867]\n",
            " [2.79242189]]\n"
          ]
        }
      ]
    },
    {
      "cell_type": "code",
      "metadata": {
        "colab": {
          "base_uri": "https://localhost:8080/",
          "height": 0
        },
        "id": "zpGH7zEaMnX7",
        "outputId": "6974a47c-be13-4d9c-a324-f432e504c828"
      },
      "source": [
        "# scikit-learn library에도 SGD Regressor를 제공\n",
        "from sklearn.linear_model import SGDRegressor\n",
        "sgd_reg = SGDRegressor(max_iter=50, penalty=None, eta0=0.1, random_state=42)\n",
        "# (14) sgd_reg.fit(X, y.ravel()) 출력 확인\n",
        "# library를 이용한 sgd\n",
        "print(sgd_reg.fit(X, y.ravel()))"
      ],
      "execution_count": 52,
      "outputs": [
        {
          "output_type": "stream",
          "name": "stdout",
          "text": [
            "SGDRegressor(alpha=0.0001, average=False, early_stopping=False, epsilon=0.1,\n",
            "             eta0=0.1, fit_intercept=True, l1_ratio=0.15,\n",
            "             learning_rate='invscaling', loss='squared_loss', max_iter=50,\n",
            "             n_iter_no_change=5, penalty=None, power_t=0.25, random_state=42,\n",
            "             shuffle=True, tol=0.001, validation_fraction=0.1, verbose=0,\n",
            "             warm_start=False)\n"
          ]
        }
      ]
    },
    {
      "cell_type": "code",
      "metadata": {
        "colab": {
          "base_uri": "https://localhost:8080/",
          "height": 0
        },
        "id": "eHe0Piu9MnX7",
        "outputId": "9ef94e72-9b09-4323-8e26-65b6eb4fe2fa"
      },
      "source": [
        "# (15) sgd_reg.intercept_, sgd_reg.coef_ 출력 확인\n",
        "# sklearn에서의 SGD를 수행한 가중치\n",
        "print(sgd_reg.intercept_, sgd_reg.coef_)"
      ],
      "execution_count": 53,
      "outputs": [
        {
          "output_type": "stream",
          "name": "stdout",
          "text": [
            "[4.15813598] [2.85158361]\n"
          ]
        }
      ]
    },
    {
      "cell_type": "code",
      "metadata": {
        "colab": {
          "base_uri": "https://localhost:8080/",
          "height": 0
        },
        "id": "12dXp04DMnX8",
        "outputId": "e3bb8c17-a852-4590-b772-b6c6b3d00d6e"
      },
      "source": [
        "### 미니배치 경사 하강법을 사용한 선형회귀 접근 ###\n",
        "# minibatch gradient descent는 bgd와 sgd의 중간\n",
        "# 미리 정해준 사이즈의 minibatch 만큼의 데이터를 본 후 loss를 구하고 gradient descent를 진행\n",
        "theta_path_mgd = []\n",
        "n_iterations = 50\n",
        "# 여기서는 minibatch의 사이즈는 20\n",
        "minibatch_size = 20\n",
        "np.random.seed(42)\n",
        "theta = np.random.randn(2,1)\n",
        "# 초기 learnin rate = 0.2\n",
        "t0, t1 = 200, 1000\n",
        "# learning rate decay function\n",
        "def learning_schedule(t):\n",
        "    return t0 / (t + t1)\n",
        "t=0\n",
        "for epoch in range(n_iterations):\n",
        "    # m 크기의 dataset를 shuffle\n",
        "    shuffled_indices = np.random.permutation(m) \n",
        "    X_b_shuffled = X_b[shuffled_indices] \n",
        "    y_shuffled = y[shuffled_indices]\n",
        "    # shuffle된 dataset에서 20(=minibatch size)개씩 데이터를 읽으면서 gd를 진행\n",
        "    for i in range(0, m, minibatch_size):\n",
        "        t += 1\n",
        "        xi = X_b_shuffled[i:i+minibatch_size]\n",
        "        yi = y_shuffled[i:i+minibatch_size]\n",
        "        # 20개의 데이터에 대해서 gradient를 구함\n",
        "        gradients = 2/minibatch_size * xi.T.dot(xi.dot(theta) - yi)\n",
        "        # learning rate decay\n",
        "        eta = learning_schedule(t)\n",
        "        # gradient descent\n",
        "        theta = theta - eta * gradients \n",
        "        theta_path_mgd.append(theta)\n",
        "# (16) theta 출력 확인\n",
        "# 출력값은 mgd를 통해 구한 가중치\n",
        "print(theta)"
      ],
      "execution_count": 54,
      "outputs": [
        {
          "output_type": "stream",
          "name": "stdout",
          "text": [
            "[[4.02542157]\n",
            " [2.69629327]]\n"
          ]
        }
      ]
    },
    {
      "cell_type": "code",
      "metadata": {
        "colab": {
          "base_uri": "https://localhost:8080/",
          "height": 292
        },
        "id": "0qKwQomYMnX8",
        "outputId": "2001cdc4-63fe-46f0-db52-c5e385fe4ad9"
      },
      "source": [
        "# bgd, sgd, mgd의 수렴 과정 시각화\n",
        "theta_path_bgd = np.array(theta_path_bgd) \n",
        "theta_path_sgd = np.array(theta_path_sgd)\n",
        "theta_path_mgd = np.array(theta_path_mgd)\n",
        "\n",
        "plt.figure(figsize=(7,4))\n",
        "plt.plot(theta_path_sgd[:, 0], theta_path_sgd[:, 1], \"r-s\", linewidth=1, label=\"SGD\")\n",
        "plt.plot(theta_path_mgd[:, 0], theta_path_mgd[:, 1], \"g-+\", linewidth=2, label=\"MINI_BATCH\")\n",
        "plt.plot(theta_path_bgd[:, 0], theta_path_bgd[:, 1], \"b-o\", linewidth=3, label=\"BATCH\") \n",
        "plt.legend(loc=\"upper left\", fontsize=16)\n",
        "plt.xlabel(r\"$\\theta_0$\", fontsize=20)\n",
        "plt.ylabel(r\"$\\theta_1$ \", fontsize=20, rotation=0)\n",
        "plt.axis([2.5, 4.5, 2.3, 3.9])\n",
        "plt.show()\n",
        "# (17) 화면 출력 확인\n",
        "# bgd는 안정적이지만 1번 갱신하기 위해 모든 데이터를 다 봐야 하기 때문에 비교적 느릴 것이다\n",
        "# sgd는 불안정하지만 1번 갱신은 데이터 1개를 의미하기 때문에 매우 수렴속도가 빠를 것이다\n",
        "# mgd는 sgd보다는 안정적이고 bgd보다는 빠를 것이다"
      ],
      "execution_count": 55,
      "outputs": [
        {
          "output_type": "display_data",
          "data": {
            "image/png": "[encoded data removed]",
            "text/plain": [
              "<Figure size 504x288 with 1 Axes>"
            ]
          },
          "metadata": {
            "needs_background": "light"
          }
        }
      ]
    },
    {
      "cell_type": "markdown",
      "metadata": {
        "id": "9TKnHzy6MnX8"
      },
      "source": [
        "### 3. 다음 코드를 무엇을 의미하는지 이해하고 실행하여 결과를 확인하세요. (3점)\n",
        "(코드의 해석과 결과의 의미를 작성하세요.)"
      ]
    },
    {
      "cell_type": "code",
      "metadata": {
        "colab": {
          "base_uri": "https://localhost:8080/",
          "height": 291
        },
        "id": "UHYRbbFgMnX8",
        "outputId": "a161e85b-3be8-464f-8261-054cfa00ccfd"
      },
      "source": [
        "# 관련 라이브러리\n",
        "from sklearn.linear_model import Ridge\n",
        "#################################\n",
        "# 아래 두 줄은 해당 class를 import하지 않으면 error가 발생해서\n",
        "# 직접 작정한 코드입니다.\n",
        "from sklearn.pipeline import Pipeline\n",
        "from sklearn.preprocessing import PolynomialFeatures, StandardScaler\n",
        "#################################\n",
        "\n",
        "np.random.seed(42)\n",
        "m = 20\n",
        "X = 3 * np.random.rand(m, 1)\n",
        "y = 1 + 0.5 * X + np.random.randn(m, 1) / 1.5\n",
        "X_new = np.linspace(0, 3, 100).reshape(100, 1)\n",
        "def plot_model(model_class, polynomial, alphas, **model_kargs):\n",
        "    for alpha, style in zip(alphas, (\"b-\", \"g--\", \"r:\")):\n",
        "        model = model_class(alpha, **model_kargs) if alpha > 0 else LinearRegression() \n",
        "        if polynomial:\n",
        "            model = Pipeline([\n",
        "                (\"poly_features\", PolynomialFeatures(degree=10, include_bias=False)), (\"std_scaler\", StandardScaler()),\n",
        "                (\"regul_reg\", model),\n",
        "            ])\n",
        "        model.fit(X, y)\n",
        "        y_new_regul = model.predict(X_new) \n",
        "        lw = 2 if alpha > 0 else 1\n",
        "        plt.plot(X_new, y_new_regul, style, linewidth=lw, label=r\"$\\alpha = {}$\".format(alpha)) \n",
        "    plt.plot(X, y, \"b.\", linewidth=3)\n",
        "    plt.legend(loc=\"upper left\", fontsize=15)\n",
        "    plt.xlabel(\"$x_1$\", fontsize=18)\n",
        "    plt.axis([0, 3, 0, 4])\n",
        "    \n",
        "plt.figure(figsize=(8,4))\n",
        "plt.subplot(121)\n",
        "plot_model(Ridge, polynomial=False, alphas=(0, 10, 100), random_state=42) \n",
        "plt.ylabel(\"$y$\", rotation=0, fontsize=18)\n",
        "plt.subplot(122)\n",
        "plot_model(Ridge, polynomial=True, alphas=(0, 10**-5, 1), random_state=42) \n",
        "plt.show()\n",
        "# 화면 출력 확인 및 결과 해석"
      ],
      "execution_count": 56,
      "outputs": [
        {
          "output_type": "display_data",
          "data": {
            "image/png": "[encoded data removed]",
            "text/plain": [
              "<Figure size 576x288 with 2 Axes>"
            ]
          },
          "metadata": {
            "needs_background": "light"
          }
        }
      ]
    },
    {
      "cell_type": "markdown",
      "metadata": {
        "id": "EZ81tsTNMnX9"
      },
      "source": [
        "### 4. [활성함수] 다음 코드를 무엇을 의미하는지 이해하고 실행하여 결과를 확인하세요. (3점)\n",
        "(코드의 해석과 결과의 의미를 작성하세요.)"
      ]
    },
    {
      "cell_type": "code",
      "metadata": {
        "colab": {
          "base_uri": "https://localhost:8080/",
          "height": 282
        },
        "id": "EXD61fdGMnX9",
        "outputId": "9fcb1801-467a-4811-ed6e-fe1f025ed740"
      },
      "source": [
        "# 파이썬 2, 파이썬 3 지원\n",
        "from __future__ import division, print_function, unicode_literals\n",
        "\n",
        "# 관련 라이브러리\n",
        "import os\n",
        "import numpy as np \n",
        "%matplotlib inline\n",
        "import matplotlib\n",
        "import matplotlib.pyplot as plt\n",
        "\n",
        "# sigmoid\n",
        "def logit(z):\n",
        "    return 1 / (1 + np.exp(-z))\n",
        "\n",
        "# relu\n",
        "def relu(z):\n",
        "    return np.maximum(0, z)\n",
        "\n",
        "# (numerical) derivative\n",
        "def derivative(f, z, eps=0.000001):\n",
        "    return (f(z + eps) - f(z - eps))/(2 * eps)\n",
        "\n",
        "z = np.linspace(-5, 5, 200)\n",
        "plt.figure(figsize=(11,4))\n",
        "plt.subplot(121)\n",
        "# step function\n",
        "plt.plot(z, np.sign(z), \"r-\", linewidth=2, label=\"step\")\n",
        "# sigmoid\n",
        "plt.plot(z, logit(z), \"g--\", linewidth=2, label=\"sigmoid\") \n",
        "# tanh\n",
        "plt.plot(z, np.tanh(z), \"b-\", linewidth=2, label=\"tanh\")\n",
        "# ReLU\n",
        "plt.plot(z, relu(z), \"m-.\", linewidth=2, label=\"ReLU\") \n",
        "plt.grid(True)\n",
        "plt.legend(loc=\"center right\", fontsize=14) \n",
        "plt.title(\"activation function: g(z)\", fontsize=14) \n",
        "plt.axis([-5, 5, -1.2, 1.2])\n",
        "\n",
        "plt.subplot(122)\n",
        "# derivative of step function\n",
        "plt.plot(z, derivative(np.sign, z), \"r-\", linewidth=2, label=\"step \") \n",
        "plt.plot(0, 0, \"ro\", markersize=5)\n",
        "plt.plot(0, 0, \"rx\", markersize=10)\n",
        "# derivative of sigmoid\n",
        "plt.plot(z, derivative(logit, z), \"g--\", linewidth=2, label=\"sigmoid\")\n",
        "# derivative of tanh\n",
        "plt.plot(z, derivative(np.tanh, z), \"b-\", linewidth=2, label=\"tanh\") \n",
        "# derivative of ReLU\n",
        "plt.plot(z, derivative(relu, z), \"m-.\", linewidth=2, label=\"ReLU\")\n",
        "plt.grid(True)\n",
        "plt.title(\"gradient: g’(z)\", fontsize=14)\n",
        "plt.axis([-5, 5, -0.2, 1.2])\n",
        "\n",
        "plt.show()\n",
        "# 화면 출력 확인 및 각 활성함수의 특징을 비교 서술\n",
        "# 1. step function\n",
        "# 음수에서 -1, 양수에서 1인 간단한 함수\n",
        "# activation을 이분법적으로 나눈 딱딱한 그래프를 보인다.\n",
        "# 미분의 경우 0을 제외한 모든 영역에서 미분값이 0이고 0에서는 미분불가능하다.\n",
        "# 2. sigmoid\n",
        "# 음수에서 0, 양수에서 1로 수렴하며 0에서 부드럽게 이어지는 모습이다.\n",
        "# zero-centered가 아니다.\n",
        "# 미분의 경우 0에서 미분값이 0.25로 최고며 양 끝으로 갈 경우 gradient가 0으로 vanishing한다.\n",
        "# 3. tanh\n",
        "# sigmoid와 비슷한 모습의 그래프\n",
        "# 다만 음수에서 -1, 양수에서 1로 수렴하며 zero-centered이다.\n",
        "# 미분의 경우 sigmoid와 비슷하며 0에서 미분값이 1로 최고이다.\n",
        "# 4. ReLU\n",
        "# 음수에선 0, 양수에선 자기 자신값을 가진다.\n",
        "# zero-centered가 아니다.\n",
        "# 미분의 경우 음수에선 0, 양수에선 1로 gradient는 음수에선 vanishing하고 양수에선 vanishing하지 않는다.\n",
        "# 0에서 미분불가능하다."
      ],
      "execution_count": 57,
      "outputs": [
        {
          "output_type": "display_data",
          "data": {
            "image/png": "[encoded data removed]",
            "text/plain": [
              "<Figure size 792x288 with 2 Axes>"
            ]
          },
          "metadata": {
            "needs_background": "light"
          }
        }
      ]
    },
    {
      "cell_type": "markdown",
      "metadata": {
        "id": "3Lnco3HoMnX9"
      },
      "source": [
        "### 5. [probability] 직원이 A제조사로부터 1000개의 직접회로 (IC)를, B제조사로부터 2000개의 IC를, C 제조사로부터 3000개의 IC를 구매했다. IC의 불량 검사 결과, A사로부터 구매한 IC의 불량 확률은 0.05, B사로부터 구매한 IC의 불량 확률은 0.10, C사로부터 구매한 IC의 불량 확률은 0.10이었다. (4 점)"
      ]
    },
    {
      "cell_type": "markdown",
      "metadata": {
        "id": "g_Fs0sYqMnX-"
      },
      "source": [
        "#### (1) 만약 3개의 제조사로부터 구매한 IC가 섞여 있는 경우, 임의로 선택한 IC가 불량일 확률은 얼마인가?"
      ]
    },
    {
      "cell_type": "markdown",
      "metadata": {
        "id": "RnezB9zPMnX-"
      },
      "source": [
        "임의의 IC가 불량인 사건을 x, 제조사가 A,B,C인 사건을 각각 a,b,c라고 했을 경우 합규칙과 곱규칙에 의해 $$P(x) = \\sum_y P(y,x) = P(a,x) + P(b,x) + P(c,x)$$로 정의할 수 있다. \n",
        "$$P(a,x) = P(x|a)P(a) = 0.05 * \\frac{1000}{6000} = \\frac{50}{6000}$$\n",
        "$$P(b,x) = P(x|b)P(b) = 0.10 * \\frac{2000}{6000} = \\frac{200}{6000}$$\n",
        "$$P(c,x) = P(x|c)P(c) = 0.10 * \\frac{3000}{6000} = \\frac{300}{6000}$$\n",
        "$$P(x) = P(a,x) + P(b,x) + P(c,x) = \\frac{50+200+300}{6000} = \\frac{11}{120}$$"
      ]
    },
    {
      "cell_type": "markdown",
      "metadata": {
        "id": "JPlwth83MnX-"
      },
      "source": [
        "#### (2) 임의로 선택한 IC가 불량인 경우, 그것이 제조사 A로부터 만들어질 확률은 얼마인가?"
      ]
    },
    {
      "cell_type": "markdown",
      "metadata": {
        "id": "J7Mjb9PCMnX-"
      },
      "source": [
        "임의로 선택한 IC가 불량인 경우 그것이 제조사 A로부터 만들어질 확률은 (1)문제에서 정의한 것에 따르면 $P(a|x)$로 표현할 수 있다.\n",
        "\n",
        "조건부 확률은 다음과 같이 정의될 수 있다.\n",
        "$$P(a|x) = \\frac{P(a,x)}{P(x)}$$\n",
        "$$P(a|x) = \\frac{\\frac{50}{6000}}{\\frac{550}{6000}} = \\frac{1}{11}$$"
      ]
    },
    {
      "cell_type": "markdown",
      "metadata": {
        "id": "KZ8YENl2MnX-"
      },
      "source": [
        "### 6. [probability] K대학은 대학원생보다 2배의 학부생이 재학중이다. 대학원생의 25%가 기숙사에 살고 있고, 학부생의 10%가 기숙사에 살고 있다. (4점)"
      ]
    },
    {
      "cell_type": "markdown",
      "metadata": {
        "id": "rpzC9oMQMnX-"
      },
      "source": [
        "#### (1) 한 학생을 임의로 선정한 경우, 그 학생이 기숙사에 살고 있는 학부생일 확률은 얼마인가?"
      ]
    },
    {
      "cell_type": "markdown",
      "metadata": {
        "id": "1ydlWLf2MnX_"
      },
      "source": [
        "학부생인 사건을 x, 기숙사에 사는 사건을 y라고 할 경우, 한 학생이 기숙사에 살고 있는 학부생인 사건의 확률은 $P(x,y)$이다.\n",
        "$$P(x,y) = P(y|x)P(x) = 0.1 * \\frac{1}{3} = \\frac{1}{30}$$"
      ]
    },
    {
      "cell_type": "markdown",
      "metadata": {
        "id": "Y7aGcr8rMnX_"
      },
      "source": [
        "#### (2) 기숙사에 살고 있는 한 학생을 임의로 선정한 경우, 그 학생이 대학원생일 확률은 얼마인가?"
      ]
    },
    {
      "cell_type": "markdown",
      "metadata": {
        "id": "srOmM2fOMnX_"
      },
      "source": [
        "기숙사에 살고 있는 한 학생이 대학원생인 확률은 (1)에서 정의한 것에 따르면 $P(\\neg{x}|y)$로 표현할 수 있다.\n",
        "\n",
        "조건부 확률은 다음과 같이 정의될 수 있다.\n",
        "$$P(\\neg{x}|y) = \\frac{P(\\neg{x},y)}{P(y)}$$\n",
        "합규칙과 곱규칙에 의하면\n",
        "$$P(y) = P(x,y) + P(\\neg{x},y) = P(y|x)P(x) + P(y|\\neg{x})P(~x) = 0.1 * \\frac{1}{3} + 0.25 * \\frac{2}{3} = \\frac{1}{5}$$\n",
        "$$P(\\neg{x}|y) = \\frac{P(\\neg{x},y)}{P(y)} = \\frac{\\frac{1}{6}}{\\frac{1}{5}} = \\frac{5}{6}$$"
      ]
    },
    {
      "cell_type": "markdown",
      "metadata": {
        "id": "fY4dnZ_3MnX_"
      },
      "source": [
        "### 7. [probability] 다음의 확률 실험을 보고 물음에 답하세요. (4점)"
      ]
    },
    {
      "cell_type": "markdown",
      "metadata": {
        "id": "4j4xU__RMnX_"
      },
      "source": [
        "![스크린샷 2021-10-07 오후 2.18.29.png](data:image/png;base64,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)"
      ]
    },
    {
      "cell_type": "markdown",
      "metadata": {
        "id": "12CiBmr_MnX_"
      },
      "source": [
        "#### (1) 검은 공을 뽑을 확률을 구하세요."
      ]
    },
    {
      "cell_type": "markdown",
      "metadata": {
        "id": "XevhiDT3MnYA"
      },
      "source": [
        "주머니에서 1,2,3 구슬을 뽑을 사건을 각각 a,b,c, 검은 공을 뽑는 사건을 x라고 했을 경우\n",
        "$$ P(x) = \\sum_y P(y,x) = P(a,x) + P(b,x) + P(c,x) $$\n",
        "$$ P(a,x) = P(x|a)P(a) = \\frac{3}{12} * \\frac{1}{8} = \\frac{1}{32}$$\n",
        "$$ P(b,x) = P(x|b)P(b) = \\frac{10}{15} * \\frac{4}{8} = \\frac{1}{3}$$\n",
        "$$ P(c,x) = P(x|c)P(c) = \\frac{3}{6} * \\frac{3}{8} = \\frac{3}{16}$$\n",
        "$$ P(x) = P(a,x) + P(b,x) + P(c,x) = \\frac{1}{32} + \\frac{1}{3} + \\frac{3}{16} = \\frac{53}{96}$$"
      ]
    },
    {
      "cell_type": "markdown",
      "metadata": {
        "id": "oyzUq48dMnYA"
      },
      "source": [
        "#### (2) 검은 공을 뽑을 확률이 가장 높은 병을 구하세요."
      ]
    },
    {
      "cell_type": "markdown",
      "metadata": {
        "id": "CxmrGW0EMnYA"
      },
      "source": [
        "검은 공을 뽑을 확률이 가장 높은 병을 구하기 위해서는 $P(a|x), P(b|x), P(c|x)$를 구한 뒤 비교하면 된다.\n",
        "$$P(y|x) = \\frac{P(y,x)}{P(x)}\\;(y=a,b,c)$$로 분모는 $P(x)$로 공통이므로 $P(a,x), P(b,x), P(c,x)$를 비교하는 것과 동일하다.\n",
        "\n",
        "이미 (1)에서 구했듯이 각각 $\\frac{1}{32}, \\frac{1}{3}, \\frac{3}{16}$이므로 P(b,x)가 제일 크다.\n",
        "따라서 2번 병이 가장 검은 공을 뽑을 확률이 높다."
      ]
    },
    {
      "cell_type": "markdown",
      "metadata": {
        "id": "MkDv0L7YMnYA"
      },
      "source": [
        "### 8. [최적화] 다음 함수를 보고 각 문제에 답하세요. (15점)\n",
        "$$ f(w_1, w_2) = w_1^2 + w_2^2 - 9 $$"
      ]
    },
    {
      "cell_type": "markdown",
      "metadata": {
        "id": "g39qJL7iMnYA"
      },
      "source": [
        "#### (1) 최소점과 최소값을 Newton method에 의해 분석적으로 구하세요. "
      ]
    },
    {
      "cell_type": "markdown",
      "metadata": {
        "id": "oqU9OvmAMnYA"
      },
      "source": [
        "함수의 최소값을 구하기 위해서는 정의역 양 끝값에서의 함수값, 임계점에서의 함수값을 구해서 이 중 최소가 되는 점을 구하면 된다.\n",
        "\n",
        "$w_1, w_2$가 $-\\infty, \\infty$로 갈때 모두 $\\infty$로 발산하므로 극소점이 있는지만 찾으면 된다.\n",
        "\n",
        "임계점을 구하기 위해서는 도함수가 0이 되는 값을 찾아야 하는데 이를 Newton-Raphson method를 사용해서 구하자면,\n",
        "\n",
        "참고로, 단일 변수에서의 Newton-Raphson method는 다음과 같다.\n",
        "$$ x_{n+1} = x_n - \\frac{f(x_n)}{f'(x_n)}$$\n",
        "다만 우리는 $f(x)$가 0이 되는 지점이 아닌 $f'(x)$, 즉 도함수가 0이 되는 곳을 찾기 위함이기 때문에\n",
        "\n",
        "$f(x) \\to f'(x), f'(x) \\to f''(x)$가 된다.\n",
        "\n",
        "이를 다변수로 확장하면\n",
        "$$f'(x) \\to \\nabla f, G$$\n",
        "$$f''(x) \\to H(Hessian\\,Matrix)$$\n",
        "가 된다.\n",
        "\n",
        "함수 f의 gradient는 다음과 같다.\n",
        "$$\n",
        "\\nabla f = G = \n",
        "\\begin{bmatrix}\n",
        "\\frac{\\partial f}{\\partial w_1} \\\\\n",
        "\\frac{\\partial f}{\\partial w_2}\n",
        "\\end{bmatrix}\n",
        "= \n",
        "\\begin{bmatrix}\n",
        "2w_1 \\\\\n",
        "2w_2\n",
        "\\end{bmatrix} $$\n",
        "\n",
        "함수 f의 Hessian Matrix는 다음과 같다.\n",
        "$$\n",
        "H =\n",
        "\\begin{bmatrix}\n",
        "\\frac{\\partial ^2 f}{\\partial w_1^2} & \\frac{\\partial ^2 f}{\\partial w_1w_2} \\\\\n",
        "\\frac{\\partial ^2 f}{\\partial w_2w_1} & \\frac{\\partial ^2 f}{\\partial w_2^2}\n",
        "\\end{bmatrix}\n",
        "=\n",
        "\\begin{bmatrix}\n",
        "2&0\\\\\n",
        "0&2\n",
        "\\end{bmatrix}\n",
        "$$\n",
        "\n",
        "임의의 점 $X_0 = (x_0, x_1)$를 정했을 때, $X_0$에서의 $G(X_0)$는 $\\begin{bmatrix}\n",
        "2x_0 \\\\\n",
        "2x_1\n",
        "\\end{bmatrix}$, $H(X_0)$는 $\\begin{bmatrix}\n",
        "2&0\\\\\n",
        "0&2\n",
        "\\end{bmatrix}$ 이다.\n",
        "\n",
        "다변수함수에서의 Newton-Raphson method에 의해 $X_1$은 다음과 같이 정의된다.\n",
        "$$X_1 = X_0 - H^{-1}(X_0)G(X_0)$$\n",
        "$$X_1 = \\begin{bmatrix}x_0 \\\\ x_1\\end{bmatrix}-\\begin{bmatrix}\\frac12&0 \\\\ 0&\\frac12\\end{bmatrix}\\begin{bmatrix}2x_0 \\\\ 2x_1\\end{bmatrix}= \\begin{bmatrix}0 \\\\ 0\\end{bmatrix}$$\n",
        "\n",
        "$X_1$에서의 gradient는 $\\begin{bmatrix}0 \\\\ 0\\end{bmatrix}$이므로 더 구할 필요 없이 $X_1$은 임계점이 되며, $X_0$는 정의역에서의 임의의 점이므로 임계점은 하나만 존재한다.\n",
        "\n",
        "함수가 아래로 볼록한 모양이므로 임계점은 극소점이 되고, 정의역의 양 끝에서 발산하므로 극소점이 최소점이 된다.\n",
        "\n",
        "따라서 함수 f는 (0,0)에서 최소값 -9를 갖는다.\n",
        "\n"
      ]
    },
    {
      "cell_type": "markdown",
      "metadata": {
        "id": "XFXSfPAUMnYB"
      },
      "source": [
        "#### (2) 난수를 생성하여, 초기값 𝐰0 = (1.0, 1.0)을 얻었다고 가정하고, 학습률 ρ=0.01인 경사 하강법을 이용하여 갱신되는 𝐰1, 𝐰2, 𝐰3을 순차적으로 구하세요. (손으로 직접 풀 것)"
      ]
    },
    {
      "cell_type": "markdown",
      "metadata": {
        "id": "PF6BqpVcMnYB"
      },
      "source": [
        "![02B17509-F663-4B0F-BE52-29702FE18615_1_105_c.jpeg](data:image/jpeg;base64,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)"
      ]
    },
    {
      "cell_type": "markdown",
      "metadata": {
        "id": "iHKKVx3zMnYB"
      },
      "source": [
        "#### (3) (2)의 경사 하강법이 (1)에서 구한 최소점을 향해 이동하는지 확인하세요."
      ]
    },
    {
      "cell_type": "markdown",
      "metadata": {
        "id": "GnYYJNAIMnYB"
      },
      "source": [
        "w0 = (1,1)에서 시작한 값이 (1)에서 구한 최소점인 (0,0)으로 점차 향하는 것을 확인할 수 있다."
      ]
    },
    {
      "cell_type": "markdown",
      "metadata": {
        "id": "q8Bq7tMmMnYB"
      },
      "source": [
        "#### (4) (2)의 과정을 Python을 활용하여 구하고, 비교하세요. (구현 코드 첨부)"
      ]
    },
    {
      "cell_type": "code",
      "metadata": {
        "colab": {
          "base_uri": "https://localhost:8080/",
          "height": 0
        },
        "id": "csiRRu-kMnYB",
        "outputId": "70f66979-ad12-4249-c91e-aa87d547bd92"
      },
      "source": [
        "# 소수 6번째자리까지 출력\n",
        "torch.set_printoptions(precision=6)\n",
        "\n",
        "# 초기값 = (1,1)\n",
        "w = torch.tensor([1.0, 1.0], dtype=torch.float)\n",
        "# learning rate = 0.01\n",
        "lr = 0.01\n",
        "\n",
        "# w1,w2,w3를 구하기 위해 3번 순회\n",
        "for epoch in range(3):\n",
        "    # grad 추적\n",
        "    w.requires_grad_(True)\n",
        "    # function 구현 \n",
        "    f = w[0]**2 + w[1]**2 - 9\n",
        "    \n",
        "    # gradient구하기 위해 backward 실행\n",
        "    f.backward()\n",
        "    with torch.no_grad() as grd:\n",
        "        # gradient descent\n",
        "        w = w - lr * w.grad\n",
        "        print(w)\n",
        "\n",
        "# 출력한 결과가 앞에서 구한 w1,w2,w3와 동일한 것을 확인할 수 있음"
      ],
      "execution_count": 58,
      "outputs": [
        {
          "output_type": "stream",
          "name": "stdout",
          "text": [
            "tensor([0.980000, 0.980000])\n",
            "tensor([0.960400, 0.960400])\n",
            "tensor([0.941192, 0.941192])\n"
          ]
        }
      ]
    },
    {
      "cell_type": "markdown",
      "metadata": {
        "id": "vFF3FCpKMnYC"
      },
      "source": [
        "### 9. [퍼셉트론] 다음 그림의 퍼셉트론 (perceptron) 입니다. (10점)"
      ]
    },
    {
      "cell_type": "markdown",
      "metadata": {
        "id": "ph4DwrWKMnYC"
      },
      "source": [
        "![스크린샷 2021-10-07 오후 8.26.53.png](data:image/png;base64,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)"
      ]
    },
    {
      "cell_type": "markdown",
      "metadata": {
        "id": "kJLuIvBvMnYC"
      },
      "source": [
        "#### (1) 해당 퍼셉트론에 의해 결정되는 결정평면의 방향과 원점에서의 거리를 구하세요."
      ]
    },
    {
      "cell_type": "markdown",
      "metadata": {
        "id": "uSCNsGY0MnYC"
      },
      "source": [
        "해당 퍼셉트론에 의해 activate 되려면\n",
        "$$ 1.3x_1 + 0.9x_2 + 0.7x_3$$\n",
        "가 1보다 커야 한다.\n",
        "\n",
        "즉 퍼셉트론의 결정 평면은\n",
        "$$ 1.3x_1 + 0.9x_2 + 0.7x_3 - 1 = 0$$\n",
        "이며 이 값이 0보다 클 경우 activate, 작을 경우 deactivate 된다.\n",
        "\n",
        "결정 평면의 법선 벡터는 (1.3, 0.9, 0.7)이므로 결정 평면의 방향은 (1.3, 0.9, 0.7)이다.\n",
        "\n",
        "원점에서의 거리는 평면과 점 사이의 거리 공식인\n",
        "$$ \\frac{|ax_1 + bx_2 + cx_3 + d|}{\\sqrt{a^2 + b^2 + c^2}} $$\n",
        "에 따라\n",
        "$$ \\frac{|1.3*0 + 0.9*0 + 0.7*0 - 1|}{\\sqrt{1.3^2 + 0.9^2 + 0.7^2}}$$\n",
        "이다.\n"
      ]
    },
    {
      "cell_type": "code",
      "metadata": {
        "colab": {
          "base_uri": "https://localhost:8080/",
          "height": 0
        },
        "id": "ovzCJhATMnYC",
        "outputId": "d3086391-7196-4cab-d411-6cc15fdfb35f"
      },
      "source": [
        "import math\n",
        "\n",
        "print(1 / math.sqrt(1.3**2 + 0.9**2 + 0.7**2))"
      ],
      "execution_count": 59,
      "outputs": [
        {
          "output_type": "stream",
          "name": "stdout",
          "text": [
            "0.5783149319662402\n"
          ]
        }
      ]
    },
    {
      "cell_type": "markdown",
      "metadata": {
        "id": "Q3bWjEi2MnYC"
      },
      "source": [
        "#### (2) T=2.0, T=0.0으로 바꾸기 위해 퍼셉트론을 수정하고, 결정평면의 변화를 설명하세요."
      ]
    },
    {
      "cell_type": "markdown",
      "metadata": {
        "id": "b518IG3zMnYD"
      },
      "source": [
        "결정평면은 각각\n",
        "$$ T = 2.0, \\quad 1.3x_1 + 0.9x_2 + 0.7x_3 - 2 = 0$$\n",
        "$$ T = 0.0, \\quad 1.3x_1 + 0.9x_2 + 0.7x_3 - 0 = 0$$"
      ]
    },
    {
      "cell_type": "markdown",
      "metadata": {
        "id": "IIZtK7xVMnYD"
      },
      "source": [
        "### 10. [PLA] PLA 가중치 갱신 법칙 𝑤(𝑡+1)=𝑤(𝑡)+𝑦(𝑡)𝑥(𝑡)를 보고 다음 문제의 답을 보이세요. (20점)\n"
      ]
    },
    {
      "cell_type": "markdown",
      "metadata": {
        "id": "BPR-9IQGMnYD"
      },
      "source": [
        "#### (1) 𝑦(𝑡)𝑤𝑇(𝑡)𝑥(𝑡) < 0임을 보이세요. (Hint: 𝑥(𝑡)는 𝑤(𝑡)에 의해 오분류 됨)"
      ]
    },
    {
      "cell_type": "markdown",
      "metadata": {
        "id": "-QFMaOWxMnYD"
      },
      "source": [
        "perceptron에서는 $w^T(t)x(t)$ 연산을 진행하고 이 값의 부호에 따라 +면 1, -면 -1으로 예측한다.\n",
        "\n",
        "따라서 다음과 같이 prediction $\\hat{y}(t)$는 다음과 같이 정의할 수 있다.\n",
        "$$ \\hat{y}(t) = sign(w^T(t)x(t)) $$\n",
        "\n",
        "$x(t)$는 $w(t)$에 의해 오분류 되었다는 것은 예측값 $\\hat{y}(t)$가 실제값 $y(t)$와 다르다는 것을 의미하며, 즉 $w^T(t)x(t)$의 부호와 $y(t)$가 다르다는 것을 뜻한다.\n",
        "\n",
        "$$=> y(t)w^T(t)x(t) < 0$$"
      ]
    },
    {
      "cell_type": "markdown",
      "metadata": {
        "id": "JJg2JPibMnYD"
      },
      "source": [
        "#### (2) 𝑦(𝑡)𝑤𝑇(𝑡 + 1)𝑥(𝑡) > 𝑦(𝑡)𝑤𝑇(𝑡) 𝑥(𝑡) 임을 보이세요. (Hint: 𝑤(𝑡 + 1) = 𝑤(𝑡) + 𝑦(𝑡)𝑥(𝑡) 이용)"
      ]
    },
    {
      "cell_type": "markdown",
      "metadata": {
        "id": "ZJcT_2hzMnYD"
      },
      "source": [
        "$$y(t)w^T(t+1)x(t) = y(t)(w(t) + y(t)x(t))^Tx(t) = y(t)w^T(t)x(t) + y(t)y^T(t)x^T(t)x(t) = y(t)w^T(t)x(t) + x^T(t)x(t)$$\n",
        "$x^T(t)x(t)$는 항상 0보다 크므로 \n",
        "$$y(t)w^T(t+1)x(t) > y(t)w^T(t)x(t)$$"
      ]
    },
    {
      "cell_type": "markdown",
      "metadata": {
        "id": "GPGIOz36MnYD"
      },
      "source": [
        "#### (3) 𝑤(𝑡)에서 𝑤(𝑡 + 1)로 이동하는 것이 𝑥(𝑡)를 분류하는데 올바른 방향으로 이동함을 설명하세요."
      ]
    },
    {
      "cell_type": "markdown",
      "metadata": {
        "id": "bKuTTO5sMnYE"
      },
      "source": [
        "$w$와 $x$를 각각 벡터로 본다면 $w^Tx = w•x = |w||x|cos\\theta$로 표현할 수 있다.\n",
        "\n",
        "어차피 부호만 중요하기 때문에 $|w||x|$는 항상 양수이므로 제외하고 결국 두 벡터 사이의 각도에 따라 $\\hat{y}$가 결정된다.\n",
        "\n",
        "실제값 y가 1일 때 잘못 했다고 했을 경우에는 $cos\\theta$가 0보다 작았을 것이고, 즉 두 벡터 사이의 각도가 90도 이상이라는 것이다.\n",
        "\n",
        "$w(t+1)$은 $w(t)$에 $y(t)x(t)$만큼 더해주는데 $y(t)=1$이므로 $w(t+1) = w(t) + x(t)$로 갱신된다.\n",
        "\n",
        "갱신된 w와 x 사이의 각도를 $\\theta_{new}$라고 할 경우, $cos\\theta_{new}$는 $w^T(t+1)x(t)$와 부호가 같으므로\n",
        "\n",
        "$$cos\\theta_{new} \\propto w^T(t+1)x(t) \\propto (w(t) + x(t))^Tx(t) \\propto w^T(t)x(t) + x^T(t)x(t) \\propto cos\\theta + x^T(t)x(t)$$\n",
        "$$ x^T(t)x(t) > 0 \\quad i.e.\\; cos\\theta_{new} > cos\\theta $$\n",
        "\n",
        "$cos\\theta$가 커지는 방향으로 학습 되기 때문에 이전보다 $x(t)$를 맞게 예측하는 방향으로 학습 된다고 할 수 있다.\n",
        "\n",
        "실제값 y가 -1인 경우에도 마찬가지의 방식으로 학습된다.\n",
        "\n",
        "따라서 $w(t)$가 $w(t+1)$로 이동하는 것이 $x(t)$를 분류하는데 올바른 방향으로 이동함을 알 수 있다."
      ]
    },
    {
      "cell_type": "markdown",
      "metadata": {
        "id": "bPlySXZrMnYE"
      },
      "source": [
        "#### (4) 𝐰 = [w0,w1,w2]T이고, 𝐱 = [1,x1,x2]T인 h(𝑥) = sign(𝐰T𝐱) 일 때, h(𝐱) = −1와 h(𝐱) = 1는 결정 직선 x2 =ax1 +𝑏 에 의해 구분된다. 결정 직선의 기울기 a와 절편 b를 가중치 w0,w1,w2에 의해 설명하세요."
      ]
    },
    {
      "cell_type": "markdown",
      "metadata": {
        "id": "7kDx6yoXMnYE"
      },
      "source": [
        "직선 $x_2 = ax_1 + b$는 $$b*1 + a*x_1 - 1*x_2 = 0$$로 볼 수 있다.\n",
        "마찬가지로 h(x)의 값은 $w^Tx$의 부호에 의해 결정되는 데, \n",
        "\n",
        "즉$ w_0*1 + w_1*x_1 + w_2*x_2$의 부호에 의해 결정된다는 것이고 \n",
        "\n",
        "따라서 h(x)의 결정직선은\n",
        "$$ w_0*1 + w_1*x_1 + w_2*x_2 = 0$$\n",
        "으로 볼 수 있다.\n",
        "\n",
        "이를 바꿔 표현하면\n",
        "$$ -\\frac{w_0}{w_2}*1 - \\frac{w_1}{w_2}*x_1 - 1*x_2 = 0$$\n",
        "$$ i.e.\\; a = - \\frac{w_1}{w_2}, b = -\\frac{w_0}{w_2}$$"
      ]
    },
    {
      "cell_type": "code",
      "metadata": {
        "id": "ZzDOxqdPONfE"
      },
      "source": [
        ""
      ],
      "execution_count": 59,
      "outputs": []
    }
  ]
}